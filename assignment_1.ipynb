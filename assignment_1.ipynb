{
 "cells": [
  {
   "cell_type": "markdown",
   "id": "0fd685a9",
   "metadata": {},
   "source": [
    "# Assignment 1 "
   ]
  },
  {
   "cell_type": "markdown",
   "id": "9f9db4b7",
   "metadata": {},
   "source": [
    "#### Imports and inits"
   ]
  },
  {
   "cell_type": "code",
   "execution_count": 1,
   "id": "a1842dd8",
   "metadata": {
    "scrolled": true
   },
   "outputs": [
    {
     "name": "stdout",
     "output_type": "stream",
     "text": [
      "Checking whether there is an H2O instance running at http://localhost:54321 . connected.\n"
     ]
    },
    {
     "data": {
      "text/html": [
       "<div style=\"overflow:auto\"><table style=\"width:50%\"><tr><td>H2O_cluster_uptime:</td>\n",
       "<td>3 days 21 hours 33 mins</td></tr>\n",
       "<tr><td>H2O_cluster_timezone:</td>\n",
       "<td>America/New_York</td></tr>\n",
       "<tr><td>H2O_data_parsing_timezone:</td>\n",
       "<td>UTC</td></tr>\n",
       "<tr><td>H2O_cluster_version:</td>\n",
       "<td>3.32.1.3</td></tr>\n",
       "<tr><td>H2O_cluster_version_age:</td>\n",
       "<td>1 month and 4 days </td></tr>\n",
       "<tr><td>H2O_cluster_name:</td>\n",
       "<td>H2O_from_python_luli_xak549</td></tr>\n",
       "<tr><td>H2O_cluster_total_nodes:</td>\n",
       "<td>1</td></tr>\n",
       "<tr><td>H2O_cluster_free_memory:</td>\n",
       "<td>1.497 Gb</td></tr>\n",
       "<tr><td>H2O_cluster_total_cores:</td>\n",
       "<td>8</td></tr>\n",
       "<tr><td>H2O_cluster_allowed_cores:</td>\n",
       "<td>8</td></tr>\n",
       "<tr><td>H2O_cluster_status:</td>\n",
       "<td>locked, healthy</td></tr>\n",
       "<tr><td>H2O_connection_url:</td>\n",
       "<td>http://localhost:54321</td></tr>\n",
       "<tr><td>H2O_connection_proxy:</td>\n",
       "<td>{\"http\": null, \"https\": null}</td></tr>\n",
       "<tr><td>H2O_internal_security:</td>\n",
       "<td>False</td></tr>\n",
       "<tr><td>H2O_API_Extensions:</td>\n",
       "<td>Amazon S3, XGBoost, Algos, AutoML, Core V3, TargetEncoder, Core V4</td></tr>\n",
       "<tr><td>Python_version:</td>\n",
       "<td>3.8.3 final</td></tr></table></div>"
      ],
      "text/plain": [
       "--------------------------  ------------------------------------------------------------------\n",
       "H2O_cluster_uptime:         3 days 21 hours 33 mins\n",
       "H2O_cluster_timezone:       America/New_York\n",
       "H2O_data_parsing_timezone:  UTC\n",
       "H2O_cluster_version:        3.32.1.3\n",
       "H2O_cluster_version_age:    1 month and 4 days\n",
       "H2O_cluster_name:           H2O_from_python_luli_xak549\n",
       "H2O_cluster_total_nodes:    1\n",
       "H2O_cluster_free_memory:    1.497 Gb\n",
       "H2O_cluster_total_cores:    8\n",
       "H2O_cluster_allowed_cores:  8\n",
       "H2O_cluster_status:         locked, healthy\n",
       "H2O_connection_url:         http://localhost:54321\n",
       "H2O_connection_proxy:       {\"http\": null, \"https\": null}\n",
       "H2O_internal_security:      False\n",
       "H2O_API_Extensions:         Amazon S3, XGBoost, Algos, AutoML, Core V3, TargetEncoder, Core V4\n",
       "Python_version:             3.8.3 final\n",
       "--------------------------  ------------------------------------------------------------------"
      ]
     },
     "metadata": {},
     "output_type": "display_data"
    }
   ],
   "source": [
    "import datetime                                               # for timestamp \n",
    "import h2o                                                    # base h2o package for python\n",
    "from h2o.estimators.glm import H2OGeneralizedLinearEstimator  # h2o elastic net models class\n",
    "from h2o.grid.grid_search import H2OGridSearch                # grid search class and syntax for h2o models\n",
    "from interpret import show                                    # basic visualizations from interpret package\n",
    "from interpret.glassbox import ExplainableBoostingClassifier  # interpret ebm class\n",
    "from interpret.perf import ROC                                # ROC measure for ebm\n",
    "import itertools                                              # for cartesian product of parameters\n",
    "import matplotlib.pyplot as plt                               # basic plotting\n",
    "import numpy as np                                            # for basic array manipulation                            \n",
    "import pandas as pd                                           # for dataframe manipulation\n",
    "import seaborn as sns                                         # slightly better plotting  \n",
    "import time                                                   # for timers\n",
    "import xgboost as xgb                                         # base xgboost package for python\n",
    "\n",
    "# set numpy random seed for better reproducibility\n",
    "SEED = 12345 \n",
    "\n",
    "# set number of threads\n",
    "NTHREAD = 4\n",
    "\n",
    "h2o.init(max_mem_size='6G', nthreads=NTHREAD) # start h2o with plenty of memory and threads\n",
    "h2o.remove_all()                              # clears h2o memory\n",
    "h2o.no_progress()                             # turn off h2o progress indicators    "
   ]
  },
  {
   "cell_type": "markdown",
   "id": "dbf93e86",
   "metadata": {},
   "source": [
    "#### Start global timer"
   ]
  },
  {
   "cell_type": "code",
   "execution_count": 2,
   "id": "afeb7034",
   "metadata": {},
   "outputs": [],
   "source": [
    "tic = time.time()"
   ]
  },
  {
   "cell_type": "markdown",
   "id": "ad897ef5",
   "metadata": {},
   "source": [
    "#### Import data"
   ]
  },
  {
   "cell_type": "code",
   "execution_count": 8,
   "id": "5089a95a",
   "metadata": {},
   "outputs": [],
   "source": [
    "data = pd.read_csv('./hmda_train_preprocessed.csv')\n",
    "test = pd.read_csv('./hmda_test_preprocessed.csv')"
   ]
  },
  {
   "cell_type": "markdown",
   "id": "9850f3c5",
   "metadata": {},
   "source": [
    "#### Assign basic modeling roles"
   ]
  },
  {
   "cell_type": "code",
   "execution_count": 9,
   "id": "42266aa8",
   "metadata": {},
   "outputs": [],
   "source": [
    "y_name = 'high_priced'\n",
    "x_names = ['term_360', 'conforming', 'debt_to_income_ratio_missing', 'loan_amount_std', 'loan_to_value_ratio_std', 'no_intro_rate_period_std',\n",
    "           'intro_rate_period_std', 'property_value_std', 'income_std', 'debt_to_income_ratio_std']"
   ]
  },
  {
   "cell_type": "markdown",
   "id": "786b5a66",
   "metadata": {},
   "source": [
    "## Basic data exploration"
   ]
  },
  {
   "cell_type": "markdown",
   "id": "ff0eba77",
   "metadata": {},
   "source": [
    "#### Histograms"
   ]
  },
  {
   "cell_type": "code",
   "execution_count": 10,
   "id": "a997ca81",
   "metadata": {},
   "outputs": [
    {
     "data": {
      "image/png": "[encoded data removed]",
      "text/plain": [
       "<Figure size 1080x1080 with 12 Axes>"
      ]
     },
     "metadata": {
      "needs_background": "light"
     },
     "output_type": "display_data"
    }
   ],
   "source": [
    "_ = data[x_names + [y_name]].hist(bins=50, figsize=(15, 15))"
   ]
  },
  {
   "cell_type": "markdown",
   "id": "ad9adcbf",
   "metadata": {},
   "source": [
    "#### Correlations"
   ]
  },
  {
   "cell_type": "code",
   "execution_count": 11,
   "id": "b4cf8fce",
   "metadata": {},
   "outputs": [
    {
     "data": {
      "image/png": "[encoded data removed]",
      "text/plain": [
       "<Figure size 432x288 with 2 Axes>"
      ]
     },
     "metadata": {
      "needs_background": "light"
     },
     "output_type": "display_data"
    }
   ],
   "source": [
    "corr = data[x_names + [y_name]].corr()\n",
    "_ = sns.heatmap(corr, \n",
    "                xticklabels=corr.columns.values,\n",
    "                yticklabels=corr.columns.values)"
   ]
  },
  {
   "cell_type": "markdown",
   "id": "272f6d8f",
   "metadata": {},
   "source": [
    "## Fit interpretable models"
   ]
  },
  {
   "cell_type": "markdown",
   "id": "c6233a42",
   "metadata": {},
   "source": [
    "#### Split data into train and validation partitions "
   ]
  },
  {
   "cell_type": "code",
   "execution_count": 12,
   "id": "bede922a",
   "metadata": {},
   "outputs": [
    {
     "name": "stdout",
     "output_type": "stream",
     "text": [
      "Train data rows = 112253, columns = 23\n",
      "Validation data rows = 48085, columns = 23\n"
     ]
    }
   ],
   "source": [
    "np.random.seed(SEED) # preserve exact reproducibility for this cell\n",
    "\n",
    "split_ratio = 0.7 # 70%/30% train/test split\n",
    "\n",
    "# execute split\n",
    "split = np.random.rand(len(data)) < split_ratio\n",
    "train = data[split]\n",
    "valid = data[~split]\n",
    "\n",
    "# summarize split\n",
    "print('Train data rows = %d, columns = %d' % (train.shape[0], train.shape[1]))\n",
    "print('Validation data rows = %d, columns = %d' % (valid.shape[0], valid.shape[1]))\n",
    "\n",
    "# benchmark - Train data rows = 112253, columns = 23\n",
    "# benchmark - Validation data rows = 48085, columns = 23"
   ]
  },
  {
   "cell_type": "markdown",
   "id": "0f0acab2",
   "metadata": {},
   "source": [
    "### Elastic net"
   ]
  },
  {
   "cell_type": "markdown",
   "id": "c341eb20",
   "metadata": {},
   "source": [
    "#### Define wrapper function for grid search"
   ]
  },
  {
   "cell_type": "code",
   "execution_count": 13,
   "id": "c4cd2059",
   "metadata": {},
   "outputs": [],
   "source": [
    "def glm_grid(x_names, y_name, htrain, hvalid, seed):\n",
    "\n",
    "    \"\"\" Wrapper function for penalized GLM with alpha and lambda search.\n",
    "\n",
    "    :param x_names: Names of input features.\n",
    "    :param y_name: Name of target feature.\n",
    "    :param htrain: Training H2OFrame.\n",
    "    :param hvalid: Validation H2OFrame.\n",
    "    :param seed: Random seed for better reproducibility.\n",
    "    :return: Best H2OGeneralizedLinearEstimator.\n",
    "    \"\"\"\n",
    "\n",
    "    alpha_opts = [0.01, 0.25, 0.5, 0.99]  # always keep some L2\n",
    "\n",
    "    # define search criteria\n",
    "    # i.e., over alpha\n",
    "    # lamda search handled by lambda_search param below\n",
    "    hyper_parameters = {'alpha': alpha_opts}\n",
    "\n",
    "    # initialize grid search\n",
    "    grid = H2OGridSearch(\n",
    "        H2OGeneralizedLinearEstimator(family='binomial',\n",
    "                                      lambda_search=True,\n",
    "                                      seed=seed), # seed for grid search\n",
    "        hyper_params=hyper_parameters)\n",
    "\n",
    "    # execute training w/ grid search\n",
    "    grid.train(y=y_name,\n",
    "               x=x_names,\n",
    "               training_frame=htrain,\n",
    "               validation_frame=hvalid,\n",
    "               seed=seed) # seed for training\n",
    "\n",
    "    # select best model from grid search\n",
    "    best_model = grid.get_grid()[0]\n",
    "    del grid\n",
    "\n",
    "    return best_model"
   ]
  },
  {
   "cell_type": "markdown",
   "id": "4dcd7a41",
   "metadata": {},
   "source": [
    "#### Fit elastic net with grid search"
   ]
  },
  {
   "cell_type": "code",
   "execution_count": 14,
   "id": "2c624d85",
   "metadata": {},
   "outputs": [
    {
     "name": "stdout",
     "output_type": "stream",
     "text": [
      "Elastic net GLM training completed in 15.37 s.\n"
     ]
    }
   ],
   "source": [
    "# start local timer\n",
    "glm_tic = time.time()\n",
    "\n",
    "# convert data to h2o frames\n",
    "htrain = h2o.H2OFrame(train)\n",
    "hvalid = h2o.H2OFrame(valid)\n",
    "\n",
    "# train with grid search\n",
    "best_glm = glm_grid(x_names, y_name, htrain, hvalid, SEED)\n",
    "\n",
    "# end local timer\n",
    "glm_toc = time.time() - glm_tic\n",
    "print('Elastic net GLM training completed in %.2f s.' % (glm_toc))"
   ]
  },
  {
   "cell_type": "markdown",
   "id": "c9a4f7b8",
   "metadata": {},
   "source": [
    "#### Basic AUC assessment"
   ]
  },
  {
   "cell_type": "code",
   "execution_count": 15,
   "id": "5f2217a8",
   "metadata": {},
   "outputs": [
    {
     "name": "stdout",
     "output_type": "stream",
     "text": [
      "Validation AUC: 0.7538.\n"
     ]
    }
   ],
   "source": [
    "print('Validation AUC: %.4f.' % best_glm.auc(valid=True))"
   ]
  },
  {
   "cell_type": "markdown",
   "id": "bf7019e4",
   "metadata": {},
   "source": [
    "#### Write submission file"
   ]
  },
  {
   "cell_type": "code",
   "execution_count": 16,
   "id": "13455b71",
   "metadata": {},
   "outputs": [],
   "source": [
    "best_glm_submit = best_glm.predict(h2o.H2OFrame(test)).as_data_frame() \n",
    "best_glm_submit.drop(['predict', 'p0'], axis=1, inplace=True)\n",
    "best_glm_submit.columns = ['phat']\n",
    "best_glm_submit.to_csv('ph_best_glm_' + str(datetime.datetime.now().strftime(\"%Y_%m_%d_%H_%M_%S\") + '.csv'), \n",
    "                       index=False)"
   ]
  },
  {
   "cell_type": "markdown",
   "id": "b089b911",
   "metadata": {},
   "source": [
    "### Monotonic XGBoost"
   ]
  },
  {
   "cell_type": "markdown",
   "id": "d07ff3ee",
   "metadata": {},
   "source": [
    "#### Define utility function for random grid search"
   ]
  },
  {
   "cell_type": "code",
   "execution_count": 17,
   "id": "89331e81",
   "metadata": {},
   "outputs": [],
   "source": [
    "def xgb_grid(dtrain, dvalid, mono_constraints=None, gs_params=None, n_models=None,\n",
    "             ntree=None, early_stopping_rounds=None, verbose=False, seed=None):\n",
    "    \n",
    "    \"\"\" Performs a random grid search over n_models and gs_params.\n",
    "\n",
    "    :param dtrain: Training data in LightSVM format.\n",
    "    :param dvalid: Validation data in LightSVM format.\n",
    "    :param mono_constraints: User-supplied monotonicity constraints.\n",
    "    :param gs_params: Dictionary of lists of potential XGBoost parameters over which to search.\n",
    "    :param n_models: Number of random models to evaluate.\n",
    "    :param ntree: Number of trees in XGBoost model.\n",
    "    :param early_stopping_rounds: XGBoost early stopping rounds.\n",
    "    :param verbose: Whether to display training iterations, default False.\n",
    "    :param seed: Random seed for better interpretability.\n",
    "    :return: Best candidate model from random grid search.\n",
    "\n",
    "    \"\"\"\n",
    "\n",
    "    # cartesian product of gs_params\n",
    "    keys, values = zip(*gs_params.items())\n",
    "    experiments = [dict(zip(keys, v)) for v in itertools.product(*values)]\n",
    "\n",
    "    # preserve exact reproducibility for this function\n",
    "    np.random.seed(SEED) \n",
    "    \n",
    "    # select randomly from cartesian product space\n",
    "    selected_experiments = np.random.choice(len(experiments), n_models)\n",
    "\n",
    "    # set global params for objective,  etc.\n",
    "    params = {'booster': 'gbtree',\n",
    "              'eval_metric': 'auc',\n",
    "              'nthread': NTHREAD,\n",
    "              'objective': 'binary:logistic',\n",
    "              'seed': SEED}\n",
    "\n",
    "    # init grid search loop\n",
    "    best_candidate = None\n",
    "    best_score = 0\n",
    "\n",
    "    # grid search loop\n",
    "    for i, exp in enumerate(selected_experiments):\n",
    "\n",
    "        params.update(experiments[exp])  # override global params with current grid run params\n",
    "\n",
    "        print('Grid search run %d/%d:' % (int(i + 1), int(n_models)))\n",
    "        print('Training with parameters:', params)\n",
    "\n",
    "        # train on current params\n",
    "        watchlist = [(dtrain, 'train'), (dvalid, 'eval')]\n",
    "        \n",
    "        if mono_constraints is not None:\n",
    "            params['monotone_constraints'] = mono_constraints\n",
    "        \n",
    "        candidate = xgb.train(params,\n",
    "                              dtrain,\n",
    "                              ntree,\n",
    "                              early_stopping_rounds=early_stopping_rounds,\n",
    "                              evals=watchlist,\n",
    "                              verbose_eval=verbose)    \n",
    "\n",
    "        # determine if current model is better than previous best\n",
    "        if candidate.best_score > best_score:\n",
    "            best_candidate = candidate\n",
    "            best_score = candidate.best_score\n",
    "            print('Grid search new best score discovered at iteration %d/%d: %.4f.' %\n",
    "                             (int(i + 1), int(n_models), candidate.best_score))\n",
    "\n",
    "        print('---------- ----------')\n",
    "            \n",
    "    return best_candidate"
   ]
  },
  {
   "cell_type": "markdown",
   "id": "77f15f2f",
   "metadata": {},
   "source": [
    "#### Fit monotonic XGBoost with random grid search"
   ]
  },
  {
   "cell_type": "code",
   "execution_count": 18,
   "id": "4f2237e6",
   "metadata": {},
   "outputs": [
    {
     "name": "stdout",
     "output_type": "stream",
     "text": [
      "Grid search run 1/50:\n",
      "Training with parameters: {'booster': 'gbtree', 'eval_metric': 'auc', 'nthread': 4, 'objective': 'binary:logistic', 'seed': 12345, 'colsample_bytree': 0.9, 'colsample_bylevel': 0.9, 'eta': 0.5, 'max_depth': 7, 'reg_alpha': 0.0005, 'reg_lambda': 0.005, 'subsample': 0.3, 'min_child_weight': 5, 'gamma': 0.0}\n",
      "Grid search new best score discovered at iteration 1/50: 0.7910.\n",
      "---------- ----------\n",
      "Grid search run 2/50:\n",
      "Training with parameters: {'booster': 'gbtree', 'eval_metric': 'auc', 'nthread': 4, 'objective': 'binary:logistic', 'seed': 12345, 'colsample_bytree': 0.3, 'colsample_bylevel': 0.3, 'eta': 0.05, 'max_depth': 5, 'reg_alpha': 0.0005, 'reg_lambda': 0.0005, 'subsample': 0.5, 'min_child_weight': 1, 'gamma': 0.2, 'monotone_constraints': (1, 1, 1, -1, 1, 1, -1, -1, -1, 1)}\n",
      "---------- ----------\n",
      "Grid search run 3/50:\n",
      "Training with parameters: {'booster': 'gbtree', 'eval_metric': 'auc', 'nthread': 4, 'objective': 'binary:logistic', 'seed': 12345, 'colsample_bytree': 0.3, 'colsample_bylevel': 0.3, 'eta': 0.5, 'max_depth': 5, 'reg_alpha': 0.005, 'reg_lambda': 0.05, 'subsample': 0.3, 'min_child_weight': 10, 'gamma': 0.4, 'monotone_constraints': (1, 1, 1, -1, 1, 1, -1, -1, -1, 1)}\n",
      "---------- ----------\n",
      "Grid search run 4/50:\n",
      "Training with parameters: {'booster': 'gbtree', 'eval_metric': 'auc', 'nthread': 4, 'objective': 'binary:logistic', 'seed': 12345, 'colsample_bytree': 0.5, 'colsample_bylevel': 0.5, 'eta': 0.5, 'max_depth': 3, 'reg_alpha': 0.05, 'reg_lambda': 0.005, 'subsample': 0.9, 'min_child_weight': 1, 'gamma': 0.0, 'monotone_constraints': (1, 1, 1, -1, 1, 1, -1, -1, -1, 1)}\n",
      "---------- ----------\n",
      "Grid search run 5/50:\n",
      "Training with parameters: {'booster': 'gbtree', 'eval_metric': 'auc', 'nthread': 4, 'objective': 'binary:logistic', 'seed': 12345, 'colsample_bytree': 0.3, 'colsample_bylevel': 0.9, 'eta': 0.05, 'max_depth': 5, 'reg_alpha': 0.005, 'reg_lambda': 0.0005, 'subsample': 0.3, 'min_child_weight': 10, 'gamma': 0.0, 'monotone_constraints': (1, 1, 1, -1, 1, 1, -1, -1, -1, 1)}\n",
      "---------- ----------\n",
      "Grid search run 6/50:\n",
      "Training with parameters: {'booster': 'gbtree', 'eval_metric': 'auc', 'nthread': 4, 'objective': 'binary:logistic', 'seed': 12345, 'colsample_bytree': 0.7, 'colsample_bylevel': 0.5, 'eta': 0.5, 'max_depth': 5, 'reg_alpha': 0.005, 'reg_lambda': 0.05, 'subsample': 0.9, 'min_child_weight': 5, 'gamma': 0.3, 'monotone_constraints': (1, 1, 1, -1, 1, 1, -1, -1, -1, 1)}\n",
      "---------- ----------\n",
      "Grid search run 7/50:\n",
      "Training with parameters: {'booster': 'gbtree', 'eval_metric': 'auc', 'nthread': 4, 'objective': 'binary:logistic', 'seed': 12345, 'colsample_bytree': 0.5, 'colsample_bylevel': 0.5, 'eta': 0.5, 'max_depth': 3, 'reg_alpha': 0.005, 'reg_lambda': 0.0005, 'subsample': 0.9, 'min_child_weight': 1, 'gamma': 0.1, 'monotone_constraints': (1, 1, 1, -1, 1, 1, -1, -1, -1, 1)}\n",
      "---------- ----------\n",
      "Grid search run 8/50:\n",
      "Training with parameters: {'booster': 'gbtree', 'eval_metric': 'auc', 'nthread': 4, 'objective': 'binary:logistic', 'seed': 12345, 'colsample_bytree': 0.7, 'colsample_bylevel': 0.7, 'eta': 0.5, 'max_depth': 5, 'reg_alpha': 0.005, 'reg_lambda': 0.0005, 'subsample': 0.7, 'min_child_weight': 1, 'gamma': 0.3, 'monotone_constraints': (1, 1, 1, -1, 1, 1, -1, -1, -1, 1)}\n",
      "Grid search new best score discovered at iteration 8/50: 0.7921.\n",
      "---------- ----------\n",
      "Grid search run 9/50:\n",
      "Training with parameters: {'booster': 'gbtree', 'eval_metric': 'auc', 'nthread': 4, 'objective': 'binary:logistic', 'seed': 12345, 'colsample_bytree': 0.7, 'colsample_bylevel': 0.3, 'eta': 0.005, 'max_depth': 7, 'reg_alpha': 0.005, 'reg_lambda': 0.005, 'subsample': 0.9, 'min_child_weight': 5, 'gamma': 0.1, 'monotone_constraints': (1, 1, 1, -1, 1, 1, -1, -1, -1, 1)}\n",
      "---------- ----------\n",
      "Grid search run 10/50:\n",
      "Training with parameters: {'booster': 'gbtree', 'eval_metric': 'auc', 'nthread': 4, 'objective': 'binary:logistic', 'seed': 12345, 'colsample_bytree': 0.3, 'colsample_bylevel': 0.5, 'eta': 0.05, 'max_depth': 3, 'reg_alpha': 0.005, 'reg_lambda': 0.05, 'subsample': 0.5, 'min_child_weight': 1, 'gamma': 0.3, 'monotone_constraints': (1, 1, 1, -1, 1, 1, -1, -1, -1, 1)}\n",
      "---------- ----------\n",
      "Grid search run 11/50:\n",
      "Training with parameters: {'booster': 'gbtree', 'eval_metric': 'auc', 'nthread': 4, 'objective': 'binary:logistic', 'seed': 12345, 'colsample_bytree': 0.5, 'colsample_bylevel': 0.3, 'eta': 0.05, 'max_depth': 7, 'reg_alpha': 0.05, 'reg_lambda': 0.05, 'subsample': 0.3, 'min_child_weight': 10, 'gamma': 0.3, 'monotone_constraints': (1, 1, 1, -1, 1, 1, -1, -1, -1, 1)}\n",
      "---------- ----------\n",
      "Grid search run 12/50:\n",
      "Training with parameters: {'booster': 'gbtree', 'eval_metric': 'auc', 'nthread': 4, 'objective': 'binary:logistic', 'seed': 12345, 'colsample_bytree': 0.5, 'colsample_bylevel': 0.3, 'eta': 0.5, 'max_depth': 5, 'reg_alpha': 0.0005, 'reg_lambda': 0.005, 'subsample': 0.3, 'min_child_weight': 5, 'gamma': 0.2, 'monotone_constraints': (1, 1, 1, -1, 1, 1, -1, -1, -1, 1)}\n",
      "---------- ----------\n",
      "Grid search run 13/50:\n",
      "Training with parameters: {'booster': 'gbtree', 'eval_metric': 'auc', 'nthread': 4, 'objective': 'binary:logistic', 'seed': 12345, 'colsample_bytree': 0.5, 'colsample_bylevel': 0.3, 'eta': 0.05, 'max_depth': 5, 'reg_alpha': 0.005, 'reg_lambda': 0.005, 'subsample': 0.7, 'min_child_weight': 5, 'gamma': 0.3, 'monotone_constraints': (1, 1, 1, -1, 1, 1, -1, -1, -1, 1)}\n",
      "---------- ----------\n",
      "Grid search run 14/50:\n",
      "Training with parameters: {'booster': 'gbtree', 'eval_metric': 'auc', 'nthread': 4, 'objective': 'binary:logistic', 'seed': 12345, 'colsample_bytree': 0.3, 'colsample_bylevel': 0.9, 'eta': 0.005, 'max_depth': 5, 'reg_alpha': 0.05, 'reg_lambda': 0.005, 'subsample': 0.5, 'min_child_weight': 10, 'gamma': 0.3, 'monotone_constraints': (1, 1, 1, -1, 1, 1, -1, -1, -1, 1)}\n",
      "---------- ----------\n",
      "Grid search run 15/50:\n",
      "Training with parameters: {'booster': 'gbtree', 'eval_metric': 'auc', 'nthread': 4, 'objective': 'binary:logistic', 'seed': 12345, 'colsample_bytree': 0.7, 'colsample_bylevel': 0.3, 'eta': 0.05, 'max_depth': 7, 'reg_alpha': 0.005, 'reg_lambda': 0.005, 'subsample': 0.5, 'min_child_weight': 5, 'gamma': 0.2, 'monotone_constraints': (1, 1, 1, -1, 1, 1, -1, -1, -1, 1)}\n",
      "---------- ----------\n",
      "Grid search run 16/50:\n",
      "Training with parameters: {'booster': 'gbtree', 'eval_metric': 'auc', 'nthread': 4, 'objective': 'binary:logistic', 'seed': 12345, 'colsample_bytree': 0.3, 'colsample_bylevel': 0.7, 'eta': 0.5, 'max_depth': 3, 'reg_alpha': 0.0005, 'reg_lambda': 0.0005, 'subsample': 0.7, 'min_child_weight': 10, 'gamma': 0.1, 'monotone_constraints': (1, 1, 1, -1, 1, 1, -1, -1, -1, 1)}\n",
      "---------- ----------\n",
      "Grid search run 17/50:\n",
      "Training with parameters: {'booster': 'gbtree', 'eval_metric': 'auc', 'nthread': 4, 'objective': 'binary:logistic', 'seed': 12345, 'colsample_bytree': 0.3, 'colsample_bylevel': 0.5, 'eta': 0.005, 'max_depth': 5, 'reg_alpha': 0.05, 'reg_lambda': 0.005, 'subsample': 0.5, 'min_child_weight': 5, 'gamma': 0.2, 'monotone_constraints': (1, 1, 1, -1, 1, 1, -1, -1, -1, 1)}\n",
      "---------- ----------\n",
      "Grid search run 18/50:\n",
      "Training with parameters: {'booster': 'gbtree', 'eval_metric': 'auc', 'nthread': 4, 'objective': 'binary:logistic', 'seed': 12345, 'colsample_bytree': 0.5, 'colsample_bylevel': 0.7, 'eta': 0.05, 'max_depth': 3, 'reg_alpha': 0.005, 'reg_lambda': 0.0005, 'subsample': 0.5, 'min_child_weight': 5, 'gamma': 0.3, 'monotone_constraints': (1, 1, 1, -1, 1, 1, -1, -1, -1, 1)}\n",
      "---------- ----------\n",
      "Grid search run 19/50:\n",
      "Training with parameters: {'booster': 'gbtree', 'eval_metric': 'auc', 'nthread': 4, 'objective': 'binary:logistic', 'seed': 12345, 'colsample_bytree': 0.5, 'colsample_bylevel': 0.9, 'eta': 0.05, 'max_depth': 7, 'reg_alpha': 0.005, 'reg_lambda': 0.0005, 'subsample': 0.3, 'min_child_weight': 5, 'gamma': 0.2, 'monotone_constraints': (1, 1, 1, -1, 1, 1, -1, -1, -1, 1)}\n",
      "---------- ----------\n",
      "Grid search run 20/50:\n",
      "Training with parameters: {'booster': 'gbtree', 'eval_metric': 'auc', 'nthread': 4, 'objective': 'binary:logistic', 'seed': 12345, 'colsample_bytree': 0.9, 'colsample_bylevel': 0.3, 'eta': 0.05, 'max_depth': 3, 'reg_alpha': 0.05, 'reg_lambda': 0.0005, 'subsample': 0.7, 'min_child_weight': 10, 'gamma': 0.4, 'monotone_constraints': (1, 1, 1, -1, 1, 1, -1, -1, -1, 1)}\n",
      "---------- ----------\n",
      "Grid search run 21/50:\n",
      "Training with parameters: {'booster': 'gbtree', 'eval_metric': 'auc', 'nthread': 4, 'objective': 'binary:logistic', 'seed': 12345, 'colsample_bytree': 0.3, 'colsample_bylevel': 0.3, 'eta': 0.5, 'max_depth': 3, 'reg_alpha': 0.005, 'reg_lambda': 0.005, 'subsample': 0.7, 'min_child_weight': 1, 'gamma': 0.1, 'monotone_constraints': (1, 1, 1, -1, 1, 1, -1, -1, -1, 1)}\n",
      "---------- ----------\n",
      "Grid search run 22/50:\n",
      "Training with parameters: {'booster': 'gbtree', 'eval_metric': 'auc', 'nthread': 4, 'objective': 'binary:logistic', 'seed': 12345, 'colsample_bytree': 0.9, 'colsample_bylevel': 0.9, 'eta': 0.05, 'max_depth': 3, 'reg_alpha': 0.05, 'reg_lambda': 0.05, 'subsample': 0.7, 'min_child_weight': 5, 'gamma': 0.4, 'monotone_constraints': (1, 1, 1, -1, 1, 1, -1, -1, -1, 1)}\n",
      "---------- ----------\n",
      "Grid search run 23/50:\n",
      "Training with parameters: {'booster': 'gbtree', 'eval_metric': 'auc', 'nthread': 4, 'objective': 'binary:logistic', 'seed': 12345, 'colsample_bytree': 0.9, 'colsample_bylevel': 0.3, 'eta': 0.5, 'max_depth': 5, 'reg_alpha': 0.0005, 'reg_lambda': 0.0005, 'subsample': 0.7, 'min_child_weight': 10, 'gamma': 0.1, 'monotone_constraints': (1, 1, 1, -1, 1, 1, -1, -1, -1, 1)}\n",
      "---------- ----------\n",
      "Grid search run 24/50:\n",
      "Training with parameters: {'booster': 'gbtree', 'eval_metric': 'auc', 'nthread': 4, 'objective': 'binary:logistic', 'seed': 12345, 'colsample_bytree': 0.7, 'colsample_bylevel': 0.7, 'eta': 0.05, 'max_depth': 5, 'reg_alpha': 0.005, 'reg_lambda': 0.005, 'subsample': 0.7, 'min_child_weight': 5, 'gamma': 0.0, 'monotone_constraints': (1, 1, 1, -1, 1, 1, -1, -1, -1, 1)}\n",
      "---------- ----------\n",
      "Grid search run 25/50:\n",
      "Training with parameters: {'booster': 'gbtree', 'eval_metric': 'auc', 'nthread': 4, 'objective': 'binary:logistic', 'seed': 12345, 'colsample_bytree': 0.9, 'colsample_bylevel': 0.7, 'eta': 0.005, 'max_depth': 3, 'reg_alpha': 0.0005, 'reg_lambda': 0.05, 'subsample': 0.3, 'min_child_weight': 1, 'gamma': 0.0, 'monotone_constraints': (1, 1, 1, -1, 1, 1, -1, -1, -1, 1)}\n",
      "---------- ----------\n",
      "Grid search run 26/50:\n",
      "Training with parameters: {'booster': 'gbtree', 'eval_metric': 'auc', 'nthread': 4, 'objective': 'binary:logistic', 'seed': 12345, 'colsample_bytree': 0.5, 'colsample_bylevel': 0.9, 'eta': 0.05, 'max_depth': 7, 'reg_alpha': 0.05, 'reg_lambda': 0.05, 'subsample': 0.9, 'min_child_weight': 5, 'gamma': 0.1, 'monotone_constraints': (1, 1, 1, -1, 1, 1, -1, -1, -1, 1)}\n",
      "---------- ----------\n",
      "Grid search run 27/50:\n",
      "Training with parameters: {'booster': 'gbtree', 'eval_metric': 'auc', 'nthread': 4, 'objective': 'binary:logistic', 'seed': 12345, 'colsample_bytree': 0.9, 'colsample_bylevel': 0.7, 'eta': 0.005, 'max_depth': 3, 'reg_alpha': 0.005, 'reg_lambda': 0.05, 'subsample': 0.3, 'min_child_weight': 5, 'gamma': 0.3, 'monotone_constraints': (1, 1, 1, -1, 1, 1, -1, -1, -1, 1)}\n",
      "---------- ----------\n",
      "Grid search run 28/50:\n",
      "Training with parameters: {'booster': 'gbtree', 'eval_metric': 'auc', 'nthread': 4, 'objective': 'binary:logistic', 'seed': 12345, 'colsample_bytree': 0.5, 'colsample_bylevel': 0.9, 'eta': 0.05, 'max_depth': 3, 'reg_alpha': 0.005, 'reg_lambda': 0.05, 'subsample': 0.7, 'min_child_weight': 10, 'gamma': 0.3, 'monotone_constraints': (1, 1, 1, -1, 1, 1, -1, -1, -1, 1)}\n",
      "---------- ----------\n",
      "Grid search run 29/50:\n",
      "Training with parameters: {'booster': 'gbtree', 'eval_metric': 'auc', 'nthread': 4, 'objective': 'binary:logistic', 'seed': 12345, 'colsample_bytree': 0.7, 'colsample_bylevel': 0.7, 'eta': 0.005, 'max_depth': 7, 'reg_alpha': 0.0005, 'reg_lambda': 0.005, 'subsample': 0.7, 'min_child_weight': 10, 'gamma': 0.3, 'monotone_constraints': (1, 1, 1, -1, 1, 1, -1, -1, -1, 1)}\n",
      "---------- ----------\n",
      "Grid search run 30/50:\n",
      "Training with parameters: {'booster': 'gbtree', 'eval_metric': 'auc', 'nthread': 4, 'objective': 'binary:logistic', 'seed': 12345, 'colsample_bytree': 0.9, 'colsample_bylevel': 0.3, 'eta': 0.005, 'max_depth': 5, 'reg_alpha': 0.005, 'reg_lambda': 0.05, 'subsample': 0.9, 'min_child_weight': 5, 'gamma': 0.1, 'monotone_constraints': (1, 1, 1, -1, 1, 1, -1, -1, -1, 1)}\n",
      "---------- ----------\n",
      "Grid search run 31/50:\n",
      "Training with parameters: {'booster': 'gbtree', 'eval_metric': 'auc', 'nthread': 4, 'objective': 'binary:logistic', 'seed': 12345, 'colsample_bytree': 0.9, 'colsample_bylevel': 0.3, 'eta': 0.05, 'max_depth': 7, 'reg_alpha': 0.005, 'reg_lambda': 0.05, 'subsample': 0.3, 'min_child_weight': 5, 'gamma': 0.1, 'monotone_constraints': (1, 1, 1, -1, 1, 1, -1, -1, -1, 1)}\n",
      "---------- ----------\n",
      "Grid search run 32/50:\n",
      "Training with parameters: {'booster': 'gbtree', 'eval_metric': 'auc', 'nthread': 4, 'objective': 'binary:logistic', 'seed': 12345, 'colsample_bytree': 0.9, 'colsample_bylevel': 0.5, 'eta': 0.5, 'max_depth': 7, 'reg_alpha': 0.05, 'reg_lambda': 0.005, 'subsample': 0.7, 'min_child_weight': 5, 'gamma': 0.0, 'monotone_constraints': (1, 1, 1, -1, 1, 1, -1, -1, -1, 1)}\n",
      "---------- ----------\n",
      "Grid search run 33/50:\n",
      "Training with parameters: {'booster': 'gbtree', 'eval_metric': 'auc', 'nthread': 4, 'objective': 'binary:logistic', 'seed': 12345, 'colsample_bytree': 0.9, 'colsample_bylevel': 0.7, 'eta': 0.05, 'max_depth': 3, 'reg_alpha': 0.0005, 'reg_lambda': 0.005, 'subsample': 0.5, 'min_child_weight': 5, 'gamma': 0.0, 'monotone_constraints': (1, 1, 1, -1, 1, 1, -1, -1, -1, 1)}\n",
      "---------- ----------\n",
      "Grid search run 34/50:\n",
      "Training with parameters: {'booster': 'gbtree', 'eval_metric': 'auc', 'nthread': 4, 'objective': 'binary:logistic', 'seed': 12345, 'colsample_bytree': 0.5, 'colsample_bylevel': 0.3, 'eta': 0.5, 'max_depth': 5, 'reg_alpha': 0.05, 'reg_lambda': 0.0005, 'subsample': 0.7, 'min_child_weight': 1, 'gamma': 0.1, 'monotone_constraints': (1, 1, 1, -1, 1, 1, -1, -1, -1, 1)}\n",
      "---------- ----------\n",
      "Grid search run 35/50:\n",
      "Training with parameters: {'booster': 'gbtree', 'eval_metric': 'auc', 'nthread': 4, 'objective': 'binary:logistic', 'seed': 12345, 'colsample_bytree': 0.7, 'colsample_bylevel': 0.3, 'eta': 0.5, 'max_depth': 5, 'reg_alpha': 0.05, 'reg_lambda': 0.005, 'subsample': 0.3, 'min_child_weight': 10, 'gamma': 0.1, 'monotone_constraints': (1, 1, 1, -1, 1, 1, -1, -1, -1, 1)}\n",
      "---------- ----------\n",
      "Grid search run 36/50:\n",
      "Training with parameters: {'booster': 'gbtree', 'eval_metric': 'auc', 'nthread': 4, 'objective': 'binary:logistic', 'seed': 12345, 'colsample_bytree': 0.9, 'colsample_bylevel': 0.9, 'eta': 0.5, 'max_depth': 7, 'reg_alpha': 0.0005, 'reg_lambda': 0.005, 'subsample': 0.7, 'min_child_weight': 10, 'gamma': 0.4, 'monotone_constraints': (1, 1, 1, -1, 1, 1, -1, -1, -1, 1)}\n",
      "---------- ----------\n",
      "Grid search run 37/50:\n",
      "Training with parameters: {'booster': 'gbtree', 'eval_metric': 'auc', 'nthread': 4, 'objective': 'binary:logistic', 'seed': 12345, 'colsample_bytree': 0.9, 'colsample_bylevel': 0.9, 'eta': 0.05, 'max_depth': 5, 'reg_alpha': 0.05, 'reg_lambda': 0.005, 'subsample': 0.7, 'min_child_weight': 5, 'gamma': 0.0, 'monotone_constraints': (1, 1, 1, -1, 1, 1, -1, -1, -1, 1)}\n",
      "---------- ----------\n",
      "Grid search run 38/50:\n",
      "Training with parameters: {'booster': 'gbtree', 'eval_metric': 'auc', 'nthread': 4, 'objective': 'binary:logistic', 'seed': 12345, 'colsample_bytree': 0.7, 'colsample_bylevel': 0.3, 'eta': 0.5, 'max_depth': 5, 'reg_alpha': 0.05, 'reg_lambda': 0.05, 'subsample': 0.5, 'min_child_weight': 5, 'gamma': 0.3, 'monotone_constraints': (1, 1, 1, -1, 1, 1, -1, -1, -1, 1)}\n",
      "---------- ----------\n",
      "Grid search run 39/50:\n",
      "Training with parameters: {'booster': 'gbtree', 'eval_metric': 'auc', 'nthread': 4, 'objective': 'binary:logistic', 'seed': 12345, 'colsample_bytree': 0.9, 'colsample_bylevel': 0.5, 'eta': 0.05, 'max_depth': 3, 'reg_alpha': 0.0005, 'reg_lambda': 0.0005, 'subsample': 0.3, 'min_child_weight': 5, 'gamma': 0.1, 'monotone_constraints': (1, 1, 1, -1, 1, 1, -1, -1, -1, 1)}\n"
     ]
    },
    {
     "name": "stdout",
     "output_type": "stream",
     "text": [
      "---------- ----------\n",
      "Grid search run 40/50:\n",
      "Training with parameters: {'booster': 'gbtree', 'eval_metric': 'auc', 'nthread': 4, 'objective': 'binary:logistic', 'seed': 12345, 'colsample_bytree': 0.9, 'colsample_bylevel': 0.7, 'eta': 0.5, 'max_depth': 3, 'reg_alpha': 0.0005, 'reg_lambda': 0.05, 'subsample': 0.3, 'min_child_weight': 1, 'gamma': 0.3, 'monotone_constraints': (1, 1, 1, -1, 1, 1, -1, -1, -1, 1)}\n",
      "---------- ----------\n",
      "Grid search run 41/50:\n",
      "Training with parameters: {'booster': 'gbtree', 'eval_metric': 'auc', 'nthread': 4, 'objective': 'binary:logistic', 'seed': 12345, 'colsample_bytree': 0.5, 'colsample_bylevel': 0.9, 'eta': 0.5, 'max_depth': 7, 'reg_alpha': 0.0005, 'reg_lambda': 0.05, 'subsample': 0.3, 'min_child_weight': 10, 'gamma': 0.4, 'monotone_constraints': (1, 1, 1, -1, 1, 1, -1, -1, -1, 1)}\n",
      "---------- ----------\n",
      "Grid search run 42/50:\n",
      "Training with parameters: {'booster': 'gbtree', 'eval_metric': 'auc', 'nthread': 4, 'objective': 'binary:logistic', 'seed': 12345, 'colsample_bytree': 0.5, 'colsample_bylevel': 0.9, 'eta': 0.05, 'max_depth': 3, 'reg_alpha': 0.005, 'reg_lambda': 0.005, 'subsample': 0.7, 'min_child_weight': 5, 'gamma': 0.1, 'monotone_constraints': (1, 1, 1, -1, 1, 1, -1, -1, -1, 1)}\n",
      "---------- ----------\n",
      "Grid search run 43/50:\n",
      "Training with parameters: {'booster': 'gbtree', 'eval_metric': 'auc', 'nthread': 4, 'objective': 'binary:logistic', 'seed': 12345, 'colsample_bytree': 0.7, 'colsample_bylevel': 0.3, 'eta': 0.5, 'max_depth': 7, 'reg_alpha': 0.05, 'reg_lambda': 0.0005, 'subsample': 0.5, 'min_child_weight': 5, 'gamma': 0.2, 'monotone_constraints': (1, 1, 1, -1, 1, 1, -1, -1, -1, 1)}\n",
      "---------- ----------\n",
      "Grid search run 44/50:\n",
      "Training with parameters: {'booster': 'gbtree', 'eval_metric': 'auc', 'nthread': 4, 'objective': 'binary:logistic', 'seed': 12345, 'colsample_bytree': 0.7, 'colsample_bylevel': 0.3, 'eta': 0.005, 'max_depth': 3, 'reg_alpha': 0.005, 'reg_lambda': 0.05, 'subsample': 0.5, 'min_child_weight': 10, 'gamma': 0.4, 'monotone_constraints': (1, 1, 1, -1, 1, 1, -1, -1, -1, 1)}\n",
      "---------- ----------\n",
      "Grid search run 45/50:\n",
      "Training with parameters: {'booster': 'gbtree', 'eval_metric': 'auc', 'nthread': 4, 'objective': 'binary:logistic', 'seed': 12345, 'colsample_bytree': 0.7, 'colsample_bylevel': 0.7, 'eta': 0.05, 'max_depth': 3, 'reg_alpha': 0.0005, 'reg_lambda': 0.005, 'subsample': 0.7, 'min_child_weight': 10, 'gamma': 0.2, 'monotone_constraints': (1, 1, 1, -1, 1, 1, -1, -1, -1, 1)}\n",
      "---------- ----------\n",
      "Grid search run 46/50:\n",
      "Training with parameters: {'booster': 'gbtree', 'eval_metric': 'auc', 'nthread': 4, 'objective': 'binary:logistic', 'seed': 12345, 'colsample_bytree': 0.5, 'colsample_bylevel': 0.9, 'eta': 0.5, 'max_depth': 3, 'reg_alpha': 0.005, 'reg_lambda': 0.005, 'subsample': 0.9, 'min_child_weight': 5, 'gamma': 0.4, 'monotone_constraints': (1, 1, 1, -1, 1, 1, -1, -1, -1, 1)}\n",
      "---------- ----------\n",
      "Grid search run 47/50:\n",
      "Training with parameters: {'booster': 'gbtree', 'eval_metric': 'auc', 'nthread': 4, 'objective': 'binary:logistic', 'seed': 12345, 'colsample_bytree': 0.9, 'colsample_bylevel': 0.9, 'eta': 0.005, 'max_depth': 7, 'reg_alpha': 0.005, 'reg_lambda': 0.05, 'subsample': 0.7, 'min_child_weight': 10, 'gamma': 0.2, 'monotone_constraints': (1, 1, 1, -1, 1, 1, -1, -1, -1, 1)}\n",
      "---------- ----------\n",
      "Grid search run 48/50:\n",
      "Training with parameters: {'booster': 'gbtree', 'eval_metric': 'auc', 'nthread': 4, 'objective': 'binary:logistic', 'seed': 12345, 'colsample_bytree': 0.9, 'colsample_bylevel': 0.7, 'eta': 0.5, 'max_depth': 7, 'reg_alpha': 0.05, 'reg_lambda': 0.0005, 'subsample': 0.7, 'min_child_weight': 10, 'gamma': 0.2, 'monotone_constraints': (1, 1, 1, -1, 1, 1, -1, -1, -1, 1)}\n",
      "---------- ----------\n",
      "Grid search run 49/50:\n",
      "Training with parameters: {'booster': 'gbtree', 'eval_metric': 'auc', 'nthread': 4, 'objective': 'binary:logistic', 'seed': 12345, 'colsample_bytree': 0.3, 'colsample_bylevel': 0.3, 'eta': 0.005, 'max_depth': 3, 'reg_alpha': 0.005, 'reg_lambda': 0.005, 'subsample': 0.7, 'min_child_weight': 5, 'gamma': 0.4, 'monotone_constraints': (1, 1, 1, -1, 1, 1, -1, -1, -1, 1)}\n",
      "---------- ----------\n",
      "Grid search run 50/50:\n",
      "Training with parameters: {'booster': 'gbtree', 'eval_metric': 'auc', 'nthread': 4, 'objective': 'binary:logistic', 'seed': 12345, 'colsample_bytree': 0.7, 'colsample_bylevel': 0.9, 'eta': 0.005, 'max_depth': 5, 'reg_alpha': 0.005, 'reg_lambda': 0.05, 'subsample': 0.7, 'min_child_weight': 5, 'gamma': 0.0, 'monotone_constraints': (1, 1, 1, -1, 1, 1, -1, -1, -1, 1)}\n",
      "---------- ----------\n",
      "Monotonic GBM training completed in 735.78 s.\n"
     ]
    }
   ],
   "source": [
    "# dictionary of hyperparameter value lists for grid search\n",
    "gs_params = {'colsample_bytree': [0.3, 0.5, 0.7, 0.9],\n",
    "             'colsample_bylevel': [0.3, 0.5, 0.7, 0.9],\n",
    "             'eta': [0.005, 0.05, 0.5],\n",
    "             'max_depth': [3, 5, 7],\n",
    "             'reg_alpha': [0.0005, 0.005, 0.05],\n",
    "             'reg_lambda': [0.0005, 0.005, 0.05],\n",
    "             'subsample': [0.3, 0.5, 0.7, 0.9],\n",
    "             'min_child_weight': [1, 5, 10], \n",
    "             'gamma': [0.0, 0.1, 0.2 , 0.3, 0.4]}\n",
    "\n",
    "# define monotonicity constraints\n",
    "mono_constraints = tuple([int(i) for i in np.sign(train[x_names + [y_name]].corr()[y_name].values[:-1])])\n",
    "\n",
    "# start local timer\n",
    "mxgb_tic = time.time()\n",
    "\n",
    "# Convert data to SVMLight format\n",
    "dtrain = xgb.DMatrix(train[x_names], train[y_name])\n",
    "dvalid = xgb.DMatrix(valid[x_names], valid[y_name])\n",
    "\n",
    "# Monotonic XGBoost grid search\n",
    "best_mxgb = xgb_grid(dtrain, dvalid, gs_params=gs_params, n_models=50, ntree=1000, early_stopping_rounds=100, \n",
    "                     mono_constraints=mono_constraints, seed=SEED)\n",
    "\n",
    "# end local timer\n",
    "mxgb_toc = time.time() - mxgb_tic\n",
    "print('Monotonic GBM training completed in %.2f s.' % (mxgb_toc))"
   ]
  },
  {
   "cell_type": "markdown",
   "id": "871463df",
   "metadata": {},
   "source": [
    "#### Basic AUC assessment"
   ]
  },
  {
   "cell_type": "code",
   "execution_count": 19,
   "id": "5eef0af5",
   "metadata": {},
   "outputs": [
    {
     "name": "stdout",
     "output_type": "stream",
     "text": [
      "Validation AUC: 0.7921.\n"
     ]
    }
   ],
   "source": [
    "print('Validation AUC: %.4f.' % best_mxgb.best_score)"
   ]
  },
  {
   "cell_type": "markdown",
   "id": "766224e3",
   "metadata": {},
   "source": [
    "#### Write submission file"
   ]
  },
  {
   "cell_type": "code",
   "execution_count": 20,
   "id": "43f25584",
   "metadata": {},
   "outputs": [],
   "source": [
    "dtest = xgb.DMatrix(test[x_names])\n",
    "best_mxgb_submit = pd.DataFrame(best_mxgb.predict(dtest, iteration_range=(0, best_mxgb.best_ntree_limit)), columns=['phat'])\n",
    "best_mxgb_submit.to_csv('ph_best_mxgb_' + str(datetime.datetime.now().strftime(\"%Y_%m_%d_%H_%M_%S\") + '.csv'), \n",
    "                        index=False)"
   ]
  },
  {
   "cell_type": "markdown",
   "id": "9087b0e3",
   "metadata": {},
   "source": [
    "### Explainable Boosting Machine"
   ]
  },
  {
   "cell_type": "markdown",
   "id": "ed18ef84",
   "metadata": {},
   "source": [
    "#### Define utility function for random grid search"
   ]
  },
  {
   "cell_type": "code",
   "execution_count": 21,
   "id": "2dec0b02",
   "metadata": {},
   "outputs": [],
   "source": [
    "def ebm_grid(train, valid, x_names, y_name, gs_params=None, n_models=None, early_stopping_rounds=None, seed=None):\n",
    "    \n",
    "    \"\"\" Performs a random grid search over n_models and gs_params.\n",
    "\n",
    "    :param train: Training data as Pandas DataFrame.\n",
    "    :param valid: Validation data as Pandas DataFrame.\n",
    "    :param x_names: Names of input features.\n",
    "    :param y_name: Name of target feature.\n",
    "    :param gs_params: Dictionary of lists of potential EBM parameters over which to search.   \n",
    "    :param n_models: Number of random models to evaluate.\n",
    "    :param early_stopping_rounds: EBM early stopping rounds.\n",
    "    :param seed: Random seed for better interpretability.\n",
    "    :return: Best candidate model from random grid search.\n",
    "\n",
    "    \"\"\"\n",
    "\n",
    "    # cartesian product of gs_params\n",
    "    keys, values = zip(*gs_params.items())\n",
    "    experiments = [dict(zip(keys, v)) for v in itertools.product(*values)]\n",
    "\n",
    "    # preserve exact reproducibility for this function\n",
    "    np.random.seed(SEED) \n",
    "    \n",
    "    # select randomly from cartesian product space\n",
    "    selected_experiments = np.random.choice(len(experiments), n_models)\n",
    "\n",
    "    # set global params for seed, etc.\n",
    "    params = {'n_jobs': NTHREAD,\n",
    "              'early_stopping_rounds': early_stopping_rounds, \n",
    "              'random_state': SEED}\n",
    "\n",
    "    # init grid search loop\n",
    "    best_candidate = None\n",
    "    best_score = 0\n",
    "\n",
    "    # grid search loop\n",
    "    for i, exp in enumerate(selected_experiments):\n",
    "\n",
    "        params.update(experiments[exp])  # override global params with current grid run params\n",
    "\n",
    "        print('Grid search run %d/%d:' % (int(i + 1), int(n_models)))\n",
    "        print('Training with parameters:', params)\n",
    "        \n",
    "        # train \n",
    "        ebm = ExplainableBoostingClassifier(**params)\n",
    "        candidate = ebm.fit(train[x_names], train[y_name]) \n",
    "        \n",
    "        # calculate AUC\n",
    "        ebm_perf = ROC(ebm.predict_proba).explain_perf(valid[x_names], valid[y_name])\n",
    "        candidate_best_score = ebm_perf._internal_obj['overall']['auc']\n",
    "    \n",
    "        # determine if current model is better than previous best\n",
    "        if candidate_best_score > best_score:\n",
    "            best_candidate = candidate\n",
    "            best_score = candidate_best_score\n",
    "            print('Grid search new best score discovered at iteration %d/%d: %.4f.' %\n",
    "                             (int(i + 1), int(n_models), candidate_best_score))\n",
    "\n",
    "        print('---------- ----------')\n",
    "        \n",
    "        del ebm\n",
    "            \n",
    "    return best_candidate"
   ]
  },
  {
   "cell_type": "markdown",
   "id": "4d39f5b2",
   "metadata": {},
   "source": [
    "#### Fit EBM with random grid search"
   ]
  },
  {
   "cell_type": "code",
   "execution_count": 33,
   "id": "f4bf2d96",
   "metadata": {
    "scrolled": true
   },
   "outputs": [
    {
     "name": "stdout",
     "output_type": "stream",
     "text": [
      "Grid search run 1/100:\n",
      "Training with parameters: {'n_jobs': 4, 'early_stopping_rounds': 100, 'random_state': 12345, 'max_bins': 512, 'max_interaction_bins': 64, 'interactions': 20, 'outer_bags': 12, 'inner_bags': 2, 'learning_rate': 0.05, 'validation_size': 0.1, 'min_samples_leaf': 10, 'max_leaves': 1}\n",
      "Grid search new best score discovered at iteration 1/100: 0.8245.\n",
      "---------- ----------\n",
      "Grid search run 2/100:\n",
      "Training with parameters: {'n_jobs': 4, 'early_stopping_rounds': 100, 'random_state': 12345, 'max_bins': 128, 'max_interaction_bins': 16, 'interactions': 10, 'outer_bags': 4, 'inner_bags': 1, 'learning_rate': 0.01, 'validation_size': 0.1, 'min_samples_leaf': 20, 'max_leaves': 3}\n",
      "---------- ----------\n",
      "Grid search run 3/100:\n",
      "Training with parameters: {'n_jobs': 4, 'early_stopping_rounds': 100, 'random_state': 12345, 'max_bins': 128, 'max_interaction_bins': 16, 'interactions': 10, 'outer_bags': 12, 'inner_bags': 3, 'learning_rate': 0.1, 'validation_size': 0.1, 'min_samples_leaf': 15, 'max_leaves': 5}\n",
      "---------- ----------\n",
      "Grid search run 4/100:\n",
      "Training with parameters: {'n_jobs': 4, 'early_stopping_rounds': 100, 'random_state': 12345, 'max_bins': 256, 'max_interaction_bins': 16, 'interactions': 5, 'outer_bags': 12, 'inner_bags': 4, 'learning_rate': 0.05, 'validation_size': 0.3, 'min_samples_leaf': 10, 'max_leaves': 1}\n",
      "---------- ----------\n",
      "Grid search run 5/100:\n",
      "Training with parameters: {'n_jobs': 4, 'early_stopping_rounds': 100, 'random_state': 12345, 'max_bins': 128, 'max_interaction_bins': 32, 'interactions': 20, 'outer_bags': 12, 'inner_bags': 3, 'learning_rate': 0.01, 'validation_size': 0.1, 'min_samples_leaf': 15, 'max_leaves': 1}\n",
      "---------- ----------\n",
      "Grid search run 6/100:\n",
      "Training with parameters: {'n_jobs': 4, 'early_stopping_rounds': 100, 'random_state': 12345, 'max_bins': 256, 'max_interaction_bins': 64, 'interactions': 15, 'outer_bags': 4, 'inner_bags': 2, 'learning_rate': 0.1, 'validation_size': 0.3, 'min_samples_leaf': 15, 'max_leaves': 4}\n",
      "---------- ----------\n",
      "Grid search run 7/100:\n",
      "Training with parameters: {'n_jobs': 4, 'early_stopping_rounds': 100, 'random_state': 12345, 'max_bins': 256, 'max_interaction_bins': 16, 'interactions': 5, 'outer_bags': 12, 'inner_bags': 3, 'learning_rate': 0.01, 'validation_size': 0.3, 'min_samples_leaf': 10, 'max_leaves': 2}\n",
      "---------- ----------\n",
      "Grid search run 8/100:\n",
      "Training with parameters: {'n_jobs': 4, 'early_stopping_rounds': 100, 'random_state': 12345, 'max_bins': 512, 'max_interaction_bins': 16, 'interactions': 5, 'outer_bags': 8, 'inner_bags': 1, 'learning_rate': 0.01, 'validation_size': 0.2, 'min_samples_leaf': 15, 'max_leaves': 4}\n",
      "---------- ----------\n",
      "Grid search run 9/100:\n",
      "Training with parameters: {'n_jobs': 4, 'early_stopping_rounds': 100, 'random_state': 12345, 'max_bins': 256, 'max_interaction_bins': 32, 'interactions': 15, 'outer_bags': 8, 'inner_bags': 4, 'learning_rate': 0.05, 'validation_size': 0.3, 'min_samples_leaf': 15, 'max_leaves': 2}\n",
      "Grid search new best score discovered at iteration 9/100: 0.8246.\n",
      "---------- ----------\n",
      "Grid search run 10/100:\n",
      "Training with parameters: {'n_jobs': 4, 'early_stopping_rounds': 100, 'random_state': 12345, 'max_bins': 128, 'max_interaction_bins': 16, 'interactions': 20, 'outer_bags': 4, 'inner_bags': 2, 'learning_rate': 0.1, 'validation_size': 0.1, 'min_samples_leaf': 20, 'max_leaves': 4}\n",
      "---------- ----------\n",
      "Grid search run 11/100:\n",
      "Training with parameters: {'n_jobs': 4, 'early_stopping_rounds': 100, 'random_state': 12345, 'max_bins': 128, 'max_interaction_bins': 64, 'interactions': 15, 'outer_bags': 8, 'inner_bags': 2, 'learning_rate': 0.1, 'validation_size': 0.1, 'min_samples_leaf': 15, 'max_leaves': 4}\n",
      "---------- ----------\n",
      "Grid search run 12/100:\n",
      "Training with parameters: {'n_jobs': 4, 'early_stopping_rounds': 100, 'random_state': 12345, 'max_bins': 128, 'max_interaction_bins': 64, 'interactions': 15, 'outer_bags': 12, 'inner_bags': 2, 'learning_rate': 0.05, 'validation_size': 0.1, 'min_samples_leaf': 10, 'max_leaves': 3}\n",
      "---------- ----------\n",
      "Grid search run 13/100:\n",
      "Training with parameters: {'n_jobs': 4, 'early_stopping_rounds': 100, 'random_state': 12345, 'max_bins': 128, 'max_interaction_bins': 64, 'interactions': 15, 'outer_bags': 4, 'inner_bags': 2, 'learning_rate': 0.05, 'validation_size': 0.2, 'min_samples_leaf': 20, 'max_leaves': 4}\n",
      "---------- ----------\n",
      "Grid search run 14/100:\n",
      "Training with parameters: {'n_jobs': 4, 'early_stopping_rounds': 100, 'random_state': 12345, 'max_bins': 128, 'max_interaction_bins': 32, 'interactions': 20, 'outer_bags': 4, 'inner_bags': 3, 'learning_rate': 0.05, 'validation_size': 0.2, 'min_samples_leaf': 10, 'max_leaves': 4}\n",
      "---------- ----------\n",
      "Grid search run 15/100:\n",
      "Training with parameters: {'n_jobs': 4, 'early_stopping_rounds': 100, 'random_state': 12345, 'max_bins': 256, 'max_interaction_bins': 32, 'interactions': 20, 'outer_bags': 8, 'inner_bags': 1, 'learning_rate': 0.05, 'validation_size': 0.2, 'min_samples_leaf': 5, 'max_leaves': 3}\n",
      "---------- ----------\n",
      "Grid search run 16/100:\n",
      "Training with parameters: {'n_jobs': 4, 'early_stopping_rounds': 100, 'random_state': 12345, 'max_bins': 128, 'max_interaction_bins': 32, 'interactions': 15, 'outer_bags': 4, 'inner_bags': 1, 'learning_rate': 0.01, 'validation_size': 0.3, 'min_samples_leaf': 5, 'max_leaves': 2}\n",
      "---------- ----------\n",
      "Grid search run 17/100:\n",
      "Training with parameters: {'n_jobs': 4, 'early_stopping_rounds': 100, 'random_state': 12345, 'max_bins': 128, 'max_interaction_bins': 16, 'interactions': 15, 'outer_bags': 12, 'inner_bags': 1, 'learning_rate': 0.05, 'validation_size': 0.2, 'min_samples_leaf': 5, 'max_leaves': 3}\n",
      "---------- ----------\n",
      "Grid search run 18/100:\n",
      "Training with parameters: {'n_jobs': 4, 'early_stopping_rounds': 100, 'random_state': 12345, 'max_bins': 256, 'max_interaction_bins': 16, 'interactions': 15, 'outer_bags': 8, 'inner_bags': 1, 'learning_rate': 0.01, 'validation_size': 0.2, 'min_samples_leaf': 5, 'max_leaves': 4}\n",
      "---------- ----------\n",
      "Grid search run 19/100:\n",
      "Training with parameters: {'n_jobs': 4, 'early_stopping_rounds': 100, 'random_state': 12345, 'max_bins': 256, 'max_interaction_bins': 32, 'interactions': 10, 'outer_bags': 4, 'inner_bags': 2, 'learning_rate': 0.01, 'validation_size': 0.1, 'min_samples_leaf': 10, 'max_leaves': 3}\n",
      "---------- ----------\n",
      "Grid search run 20/100:\n",
      "Training with parameters: {'n_jobs': 4, 'early_stopping_rounds': 100, 'random_state': 12345, 'max_bins': 512, 'max_interaction_bins': 16, 'interactions': 20, 'outer_bags': 12, 'inner_bags': 4, 'learning_rate': 0.01, 'validation_size': 0.3, 'min_samples_leaf': 5, 'max_leaves': 5}\n",
      "---------- ----------\n",
      "Grid search run 21/100:\n",
      "Training with parameters: {'n_jobs': 4, 'early_stopping_rounds': 100, 'random_state': 12345, 'max_bins': 128, 'max_interaction_bins': 16, 'interactions': 10, 'outer_bags': 8, 'inner_bags': 4, 'learning_rate': 0.05, 'validation_size': 0.2, 'min_samples_leaf': 15, 'max_leaves': 2}\n",
      "---------- ----------\n",
      "Grid search run 22/100:\n",
      "Training with parameters: {'n_jobs': 4, 'early_stopping_rounds': 100, 'random_state': 12345, 'max_bins': 512, 'max_interaction_bins': 64, 'interactions': 15, 'outer_bags': 12, 'inner_bags': 1, 'learning_rate': 0.1, 'validation_size': 0.2, 'min_samples_leaf': 20, 'max_leaves': 5}\n",
      "Grid search new best score discovered at iteration 22/100: 0.8248.\n",
      "---------- ----------\n",
      "Grid search run 23/100:\n",
      "Training with parameters: {'n_jobs': 4, 'early_stopping_rounds': 100, 'random_state': 12345, 'max_bins': 512, 'max_interaction_bins': 32, 'interactions': 5, 'outer_bags': 12, 'inner_bags': 2, 'learning_rate': 0.01, 'validation_size': 0.3, 'min_samples_leaf': 5, 'max_leaves': 2}\n",
      "---------- ----------\n",
      "Grid search run 24/100:\n",
      "Training with parameters: {'n_jobs': 4, 'early_stopping_rounds': 100, 'random_state': 12345, 'max_bins': 256, 'max_interaction_bins': 64, 'interactions': 20, 'outer_bags': 8, 'inner_bags': 4, 'learning_rate': 0.05, 'validation_size': 0.2, 'min_samples_leaf': 20, 'max_leaves': 1}\n",
      "---------- ----------\n",
      "Grid search run 25/100:\n",
      "Training with parameters: {'n_jobs': 4, 'early_stopping_rounds': 100, 'random_state': 12345, 'max_bins': 512, 'max_interaction_bins': 32, 'interactions': 20, 'outer_bags': 8, 'inner_bags': 3, 'learning_rate': 0.1, 'validation_size': 0.1, 'min_samples_leaf': 5, 'max_leaves': 1}\n",
      "---------- ----------\n",
      "Grid search run 26/100:\n",
      "Training with parameters: {'n_jobs': 4, 'early_stopping_rounds': 100, 'random_state': 12345, 'max_bins': 256, 'max_interaction_bins': 32, 'interactions': 10, 'outer_bags': 4, 'inner_bags': 3, 'learning_rate': 0.1, 'validation_size': 0.3, 'min_samples_leaf': 15, 'max_leaves': 2}\n",
      "---------- ----------\n",
      "Grid search run 27/100:\n",
      "Training with parameters: {'n_jobs': 4, 'early_stopping_rounds': 100, 'random_state': 12345, 'max_bins': 512, 'max_interaction_bins': 32, 'interactions': 20, 'outer_bags': 8, 'inner_bags': 4, 'learning_rate': 0.1, 'validation_size': 0.1, 'min_samples_leaf': 10, 'max_leaves': 4}\n",
      "---------- ----------\n",
      "Grid search run 28/100:\n",
      "Training with parameters: {'n_jobs': 4, 'early_stopping_rounds': 100, 'random_state': 12345, 'max_bins': 256, 'max_interaction_bins': 32, 'interactions': 5, 'outer_bags': 8, 'inner_bags': 4, 'learning_rate': 0.1, 'validation_size': 0.3, 'min_samples_leaf': 5, 'max_leaves': 4}\n",
      "---------- ----------\n",
      "Grid search run 29/100:\n",
      "Training with parameters: {'n_jobs': 4, 'early_stopping_rounds': 100, 'random_state': 12345, 'max_bins': 256, 'max_interaction_bins': 64, 'interactions': 20, 'outer_bags': 4, 'inner_bags': 1, 'learning_rate': 0.05, 'validation_size': 0.3, 'min_samples_leaf': 5, 'max_leaves': 4}\n",
      "---------- ----------\n",
      "Grid search run 30/100:\n",
      "Training with parameters: {'n_jobs': 4, 'early_stopping_rounds': 100, 'random_state': 12345, 'max_bins': 512, 'max_interaction_bins': 16, 'interactions': 20, 'outer_bags': 8, 'inner_bags': 1, 'learning_rate': 0.1, 'validation_size': 0.3, 'min_samples_leaf': 15, 'max_leaves': 2}\n",
      "---------- ----------\n",
      "Grid search run 31/100:\n",
      "Training with parameters: {'n_jobs': 4, 'early_stopping_rounds': 100, 'random_state': 12345, 'max_bins': 512, 'max_interaction_bins': 32, 'interactions': 5, 'outer_bags': 8, 'inner_bags': 1, 'learning_rate': 0.1, 'validation_size': 0.1, 'min_samples_leaf': 10, 'max_leaves': 2}\n",
      "---------- ----------\n",
      "Grid search run 32/100:\n",
      "Training with parameters: {'n_jobs': 4, 'early_stopping_rounds': 100, 'random_state': 12345, 'max_bins': 512, 'max_interaction_bins': 32, 'interactions': 20, 'outer_bags': 8, 'inner_bags': 2, 'learning_rate': 0.05, 'validation_size': 0.2, 'min_samples_leaf': 20, 'max_leaves': 1}\n",
      "---------- ----------\n",
      "Grid search run 33/100:\n",
      "Training with parameters: {'n_jobs': 4, 'early_stopping_rounds': 100, 'random_state': 12345, 'max_bins': 512, 'max_interaction_bins': 64, 'interactions': 5, 'outer_bags': 4, 'inner_bags': 4, 'learning_rate': 0.05, 'validation_size': 0.2, 'min_samples_leaf': 5, 'max_leaves': 1}\n",
      "---------- ----------\n",
      "Grid search run 34/100:\n",
      "Training with parameters: {'n_jobs': 4, 'early_stopping_rounds': 100, 'random_state': 12345, 'max_bins': 128, 'max_interaction_bins': 64, 'interactions': 15, 'outer_bags': 12, 'inner_bags': 4, 'learning_rate': 0.01, 'validation_size': 0.2, 'min_samples_leaf': 15, 'max_leaves': 2}\n",
      "---------- ----------\n",
      "Grid search run 35/100:\n",
      "Training with parameters: {'n_jobs': 4, 'early_stopping_rounds': 100, 'random_state': 12345, 'max_bins': 256, 'max_interaction_bins': 32, 'interactions': 20, 'outer_bags': 12, 'inner_bags': 4, 'learning_rate': 0.05, 'validation_size': 0.1, 'min_samples_leaf': 15, 'max_leaves': 2}\n",
      "Grid search new best score discovered at iteration 35/100: 0.8248.\n",
      "---------- ----------\n",
      "Grid search run 36/100:\n",
      "Training with parameters: {'n_jobs': 4, 'early_stopping_rounds': 100, 'random_state': 12345, 'max_bins': 512, 'max_interaction_bins': 64, 'interactions': 20, 'outer_bags': 12, 'inner_bags': 2, 'learning_rate': 0.05, 'validation_size': 0.3, 'min_samples_leaf': 5, 'max_leaves': 5}\n",
      "---------- ----------\n",
      "Grid search run 37/100:\n",
      "Training with parameters: {'n_jobs': 4, 'early_stopping_rounds': 100, 'random_state': 12345, 'max_bins': 512, 'max_interaction_bins': 64, 'interactions': 15, 'outer_bags': 12, 'inner_bags': 4, 'learning_rate': 0.05, 'validation_size': 0.2, 'min_samples_leaf': 20, 'max_leaves': 1}\n",
      "---------- ----------\n",
      "Grid search run 38/100:\n",
      "Training with parameters: {'n_jobs': 4, 'early_stopping_rounds': 100, 'random_state': 12345, 'max_bins': 256, 'max_interaction_bins': 32, 'interactions': 20, 'outer_bags': 12, 'inner_bags': 4, 'learning_rate': 0.1, 'validation_size': 0.2, 'min_samples_leaf': 5, 'max_leaves': 4}\n",
      "---------- ----------\n",
      "Grid search run 39/100:\n",
      "Training with parameters: {'n_jobs': 4, 'early_stopping_rounds': 100, 'random_state': 12345, 'max_bins': 512, 'max_interaction_bins': 32, 'interactions': 15, 'outer_bags': 4, 'inner_bags': 1, 'learning_rate': 0.01, 'validation_size': 0.1, 'min_samples_leaf': 10, 'max_leaves': 2}\n",
      "---------- ----------\n",
      "Grid search run 40/100:\n",
      "Training with parameters: {'n_jobs': 4, 'early_stopping_rounds': 100, 'random_state': 12345, 'max_bins': 512, 'max_interaction_bins': 64, 'interactions': 10, 'outer_bags': 4, 'inner_bags': 1, 'learning_rate': 0.1, 'validation_size': 0.1, 'min_samples_leaf': 5, 'max_leaves': 4}\n",
      "---------- ----------\n",
      "Grid search run 41/100:\n",
      "Training with parameters: {'n_jobs': 4, 'early_stopping_rounds': 100, 'random_state': 12345, 'max_bins': 256, 'max_interaction_bins': 32, 'interactions': 10, 'outer_bags': 12, 'inner_bags': 2, 'learning_rate': 0.1, 'validation_size': 0.1, 'min_samples_leaf': 15, 'max_leaves': 5}\n",
      "---------- ----------\n",
      "Grid search run 42/100:\n",
      "Training with parameters: {'n_jobs': 4, 'early_stopping_rounds': 100, 'random_state': 12345, 'max_bins': 256, 'max_interaction_bins': 32, 'interactions': 5, 'outer_bags': 8, 'inner_bags': 4, 'learning_rate': 0.05, 'validation_size': 0.2, 'min_samples_leaf': 20, 'max_leaves': 2}\n",
      "---------- ----------\n",
      "Grid search run 43/100:\n",
      "Training with parameters: {'n_jobs': 4, 'early_stopping_rounds': 100, 'random_state': 12345, 'max_bins': 256, 'max_interaction_bins': 64, 'interactions': 5, 'outer_bags': 4, 'inner_bags': 3, 'learning_rate': 0.01, 'validation_size': 0.2, 'min_samples_leaf': 5, 'max_leaves': 3}\n",
      "---------- ----------\n",
      "Grid search run 44/100:\n",
      "Training with parameters: {'n_jobs': 4, 'early_stopping_rounds': 100, 'random_state': 12345, 'max_bins': 256, 'max_interaction_bins': 32, 'interactions': 15, 'outer_bags': 4, 'inner_bags': 2, 'learning_rate': 0.1, 'validation_size': 0.2, 'min_samples_leaf': 10, 'max_leaves': 5}\n",
      "---------- ----------\n",
      "Grid search run 45/100:\n",
      "Training with parameters: {'n_jobs': 4, 'early_stopping_rounds': 100, 'random_state': 12345, 'max_bins': 256, 'max_interaction_bins': 64, 'interactions': 20, 'outer_bags': 4, 'inner_bags': 4, 'learning_rate': 0.05, 'validation_size': 0.3, 'min_samples_leaf': 5, 'max_leaves': 3}\n",
      "---------- ----------\n",
      "Grid search run 46/100:\n",
      "Training with parameters: {'n_jobs': 4, 'early_stopping_rounds': 100, 'random_state': 12345, 'max_bins': 256, 'max_interaction_bins': 32, 'interactions': 10, 'outer_bags': 8, 'inner_bags': 1, 'learning_rate': 0.05, 'validation_size': 0.3, 'min_samples_leaf': 15, 'max_leaves': 5}\n",
      "---------- ----------\n",
      "Grid search run 47/100:\n",
      "Training with parameters: {'n_jobs': 4, 'early_stopping_rounds': 100, 'random_state': 12345, 'max_bins': 512, 'max_interaction_bins': 64, 'interactions': 15, 'outer_bags': 8, 'inner_bags': 1, 'learning_rate': 0.1, 'validation_size': 0.3, 'min_samples_leaf': 5, 'max_leaves': 3}\n",
      "Grid search new best score discovered at iteration 47/100: 0.8248.\n",
      "---------- ----------\n",
      "Grid search run 48/100:\n",
      "Training with parameters: {'n_jobs': 4, 'early_stopping_rounds': 100, 'random_state': 12345, 'max_bins': 512, 'max_interaction_bins': 64, 'interactions': 10, 'outer_bags': 12, 'inner_bags': 1, 'learning_rate': 0.01, 'validation_size': 0.3, 'min_samples_leaf': 5, 'max_leaves': 3}\n",
      "---------- ----------\n",
      "Grid search run 49/100:\n"
     ]
    },
    {
     "name": "stdout",
     "output_type": "stream",
     "text": [
      "Training with parameters: {'n_jobs': 4, 'early_stopping_rounds': 100, 'random_state': 12345, 'max_bins': 128, 'max_interaction_bins': 16, 'interactions': 5, 'outer_bags': 4, 'inner_bags': 2, 'learning_rate': 0.05, 'validation_size': 0.2, 'min_samples_leaf': 20, 'max_leaves': 5}\n",
      "---------- ----------\n",
      "Grid search run 50/100:\n",
      "Training with parameters: {'n_jobs': 4, 'early_stopping_rounds': 100, 'random_state': 12345, 'max_bins': 512, 'max_interaction_bins': 16, 'interactions': 10, 'outer_bags': 4, 'inner_bags': 2, 'learning_rate': 0.1, 'validation_size': 0.2, 'min_samples_leaf': 20, 'max_leaves': 1}\n",
      "---------- ----------\n",
      "Grid search run 51/100:\n",
      "Training with parameters: {'n_jobs': 4, 'early_stopping_rounds': 100, 'random_state': 12345, 'max_bins': 256, 'max_interaction_bins': 16, 'interactions': 10, 'outer_bags': 4, 'inner_bags': 2, 'learning_rate': 0.05, 'validation_size': 0.3, 'min_samples_leaf': 20, 'max_leaves': 4}\n",
      "---------- ----------\n",
      "Grid search run 52/100:\n",
      "Training with parameters: {'n_jobs': 4, 'early_stopping_rounds': 100, 'random_state': 12345, 'max_bins': 128, 'max_interaction_bins': 64, 'interactions': 5, 'outer_bags': 12, 'inner_bags': 3, 'learning_rate': 0.01, 'validation_size': 0.2, 'min_samples_leaf': 20, 'max_leaves': 2}\n",
      "---------- ----------\n",
      "Grid search run 53/100:\n",
      "Training with parameters: {'n_jobs': 4, 'early_stopping_rounds': 100, 'random_state': 12345, 'max_bins': 512, 'max_interaction_bins': 16, 'interactions': 15, 'outer_bags': 12, 'inner_bags': 2, 'learning_rate': 0.01, 'validation_size': 0.1, 'min_samples_leaf': 10, 'max_leaves': 1}\n",
      "---------- ----------\n",
      "Grid search run 54/100:\n",
      "Training with parameters: {'n_jobs': 4, 'early_stopping_rounds': 100, 'random_state': 12345, 'max_bins': 512, 'max_interaction_bins': 64, 'interactions': 10, 'outer_bags': 8, 'inner_bags': 1, 'learning_rate': 0.05, 'validation_size': 0.2, 'min_samples_leaf': 15, 'max_leaves': 1}\n",
      "---------- ----------\n",
      "Grid search run 55/100:\n",
      "Training with parameters: {'n_jobs': 4, 'early_stopping_rounds': 100, 'random_state': 12345, 'max_bins': 512, 'max_interaction_bins': 32, 'interactions': 20, 'outer_bags': 4, 'inner_bags': 2, 'learning_rate': 0.05, 'validation_size': 0.3, 'min_samples_leaf': 5, 'max_leaves': 4}\n",
      "---------- ----------\n",
      "Grid search run 56/100:\n",
      "Training with parameters: {'n_jobs': 4, 'early_stopping_rounds': 100, 'random_state': 12345, 'max_bins': 512, 'max_interaction_bins': 64, 'interactions': 20, 'outer_bags': 4, 'inner_bags': 1, 'learning_rate': 0.05, 'validation_size': 0.1, 'min_samples_leaf': 20, 'max_leaves': 4}\n",
      "---------- ----------\n",
      "Grid search run 57/100:\n",
      "Training with parameters: {'n_jobs': 4, 'early_stopping_rounds': 100, 'random_state': 12345, 'max_bins': 256, 'max_interaction_bins': 16, 'interactions': 5, 'outer_bags': 12, 'inner_bags': 3, 'learning_rate': 0.1, 'validation_size': 0.2, 'min_samples_leaf': 20, 'max_leaves': 1}\n",
      "---------- ----------\n",
      "Grid search run 58/100:\n",
      "Training with parameters: {'n_jobs': 4, 'early_stopping_rounds': 100, 'random_state': 12345, 'max_bins': 512, 'max_interaction_bins': 32, 'interactions': 15, 'outer_bags': 4, 'inner_bags': 1, 'learning_rate': 0.01, 'validation_size': 0.1, 'min_samples_leaf': 5, 'max_leaves': 1}\n",
      "---------- ----------\n",
      "Grid search run 59/100:\n",
      "Training with parameters: {'n_jobs': 4, 'early_stopping_rounds': 100, 'random_state': 12345, 'max_bins': 256, 'max_interaction_bins': 32, 'interactions': 10, 'outer_bags': 12, 'inner_bags': 1, 'learning_rate': 0.1, 'validation_size': 0.3, 'min_samples_leaf': 20, 'max_leaves': 2}\n",
      "---------- ----------\n",
      "Grid search run 60/100:\n",
      "Training with parameters: {'n_jobs': 4, 'early_stopping_rounds': 100, 'random_state': 12345, 'max_bins': 128, 'max_interaction_bins': 32, 'interactions': 20, 'outer_bags': 12, 'inner_bags': 2, 'learning_rate': 0.1, 'validation_size': 0.3, 'min_samples_leaf': 5, 'max_leaves': 3}\n",
      "---------- ----------\n",
      "Grid search run 61/100:\n",
      "Training with parameters: {'n_jobs': 4, 'early_stopping_rounds': 100, 'random_state': 12345, 'max_bins': 256, 'max_interaction_bins': 64, 'interactions': 5, 'outer_bags': 12, 'inner_bags': 2, 'learning_rate': 0.1, 'validation_size': 0.2, 'min_samples_leaf': 20, 'max_leaves': 3}\n",
      "---------- ----------\n",
      "Grid search run 62/100:\n",
      "Training with parameters: {'n_jobs': 4, 'early_stopping_rounds': 100, 'random_state': 12345, 'max_bins': 256, 'max_interaction_bins': 16, 'interactions': 5, 'outer_bags': 12, 'inner_bags': 3, 'learning_rate': 0.1, 'validation_size': 0.3, 'min_samples_leaf': 20, 'max_leaves': 5}\n",
      "---------- ----------\n",
      "Grid search run 63/100:\n",
      "Training with parameters: {'n_jobs': 4, 'early_stopping_rounds': 100, 'random_state': 12345, 'max_bins': 128, 'max_interaction_bins': 32, 'interactions': 10, 'outer_bags': 4, 'inner_bags': 4, 'learning_rate': 0.1, 'validation_size': 0.3, 'min_samples_leaf': 5, 'max_leaves': 1}\n",
      "---------- ----------\n",
      "Grid search run 64/100:\n",
      "Training with parameters: {'n_jobs': 4, 'early_stopping_rounds': 100, 'random_state': 12345, 'max_bins': 128, 'max_interaction_bins': 16, 'interactions': 20, 'outer_bags': 4, 'inner_bags': 2, 'learning_rate': 0.05, 'validation_size': 0.1, 'min_samples_leaf': 5, 'max_leaves': 2}\n",
      "---------- ----------\n",
      "Grid search run 65/100:\n",
      "Training with parameters: {'n_jobs': 4, 'early_stopping_rounds': 100, 'random_state': 12345, 'max_bins': 512, 'max_interaction_bins': 64, 'interactions': 10, 'outer_bags': 4, 'inner_bags': 1, 'learning_rate': 0.1, 'validation_size': 0.2, 'min_samples_leaf': 10, 'max_leaves': 5}\n",
      "---------- ----------\n",
      "Grid search run 66/100:\n",
      "Training with parameters: {'n_jobs': 4, 'early_stopping_rounds': 100, 'random_state': 12345, 'max_bins': 128, 'max_interaction_bins': 64, 'interactions': 15, 'outer_bags': 4, 'inner_bags': 4, 'learning_rate': 0.1, 'validation_size': 0.1, 'min_samples_leaf': 10, 'max_leaves': 3}\n",
      "---------- ----------\n",
      "Grid search run 67/100:\n",
      "Training with parameters: {'n_jobs': 4, 'early_stopping_rounds': 100, 'random_state': 12345, 'max_bins': 128, 'max_interaction_bins': 64, 'interactions': 5, 'outer_bags': 8, 'inner_bags': 2, 'learning_rate': 0.05, 'validation_size': 0.3, 'min_samples_leaf': 15, 'max_leaves': 1}\n",
      "---------- ----------\n",
      "Grid search run 68/100:\n",
      "Training with parameters: {'n_jobs': 4, 'early_stopping_rounds': 100, 'random_state': 12345, 'max_bins': 512, 'max_interaction_bins': 16, 'interactions': 10, 'outer_bags': 8, 'inner_bags': 3, 'learning_rate': 0.1, 'validation_size': 0.2, 'min_samples_leaf': 15, 'max_leaves': 1}\n",
      "---------- ----------\n",
      "Grid search run 69/100:\n",
      "Training with parameters: {'n_jobs': 4, 'early_stopping_rounds': 100, 'random_state': 12345, 'max_bins': 512, 'max_interaction_bins': 32, 'interactions': 5, 'outer_bags': 8, 'inner_bags': 3, 'learning_rate': 0.05, 'validation_size': 0.2, 'min_samples_leaf': 15, 'max_leaves': 3}\n",
      "---------- ----------\n",
      "Grid search run 70/100:\n",
      "Training with parameters: {'n_jobs': 4, 'early_stopping_rounds': 100, 'random_state': 12345, 'max_bins': 512, 'max_interaction_bins': 64, 'interactions': 15, 'outer_bags': 12, 'inner_bags': 4, 'learning_rate': 0.01, 'validation_size': 0.3, 'min_samples_leaf': 5, 'max_leaves': 4}\n",
      "---------- ----------\n",
      "Grid search run 71/100:\n",
      "Training with parameters: {'n_jobs': 4, 'early_stopping_rounds': 100, 'random_state': 12345, 'max_bins': 128, 'max_interaction_bins': 64, 'interactions': 5, 'outer_bags': 8, 'inner_bags': 2, 'learning_rate': 0.05, 'validation_size': 0.1, 'min_samples_leaf': 10, 'max_leaves': 1}\n",
      "---------- ----------\n",
      "Grid search run 72/100:\n",
      "Training with parameters: {'n_jobs': 4, 'early_stopping_rounds': 100, 'random_state': 12345, 'max_bins': 512, 'max_interaction_bins': 32, 'interactions': 20, 'outer_bags': 4, 'inner_bags': 2, 'learning_rate': 0.05, 'validation_size': 0.1, 'min_samples_leaf': 20, 'max_leaves': 4}\n",
      "---------- ----------\n",
      "Grid search run 73/100:\n",
      "Training with parameters: {'n_jobs': 4, 'early_stopping_rounds': 100, 'random_state': 12345, 'max_bins': 512, 'max_interaction_bins': 32, 'interactions': 5, 'outer_bags': 4, 'inner_bags': 3, 'learning_rate': 0.01, 'validation_size': 0.2, 'min_samples_leaf': 20, 'max_leaves': 1}\n",
      "---------- ----------\n",
      "Grid search run 74/100:\n",
      "Training with parameters: {'n_jobs': 4, 'early_stopping_rounds': 100, 'random_state': 12345, 'max_bins': 512, 'max_interaction_bins': 16, 'interactions': 10, 'outer_bags': 12, 'inner_bags': 2, 'learning_rate': 0.05, 'validation_size': 0.1, 'min_samples_leaf': 10, 'max_leaves': 1}\n",
      "---------- ----------\n",
      "Grid search run 75/100:\n",
      "Training with parameters: {'n_jobs': 4, 'early_stopping_rounds': 100, 'random_state': 12345, 'max_bins': 128, 'max_interaction_bins': 64, 'interactions': 5, 'outer_bags': 12, 'inner_bags': 1, 'learning_rate': 0.01, 'validation_size': 0.2, 'min_samples_leaf': 15, 'max_leaves': 4}\n",
      "---------- ----------\n",
      "Grid search run 76/100:\n",
      "Training with parameters: {'n_jobs': 4, 'early_stopping_rounds': 100, 'random_state': 12345, 'max_bins': 512, 'max_interaction_bins': 32, 'interactions': 5, 'outer_bags': 12, 'inner_bags': 3, 'learning_rate': 0.1, 'validation_size': 0.3, 'min_samples_leaf': 15, 'max_leaves': 4}\n",
      "---------- ----------\n",
      "Grid search run 77/100:\n",
      "Training with parameters: {'n_jobs': 4, 'early_stopping_rounds': 100, 'random_state': 12345, 'max_bins': 256, 'max_interaction_bins': 32, 'interactions': 20, 'outer_bags': 8, 'inner_bags': 3, 'learning_rate': 0.1, 'validation_size': 0.1, 'min_samples_leaf': 10, 'max_leaves': 4}\n",
      "---------- ----------\n",
      "Grid search run 78/100:\n",
      "Training with parameters: {'n_jobs': 4, 'early_stopping_rounds': 100, 'random_state': 12345, 'max_bins': 256, 'max_interaction_bins': 64, 'interactions': 20, 'outer_bags': 8, 'inner_bags': 1, 'learning_rate': 0.1, 'validation_size': 0.3, 'min_samples_leaf': 10, 'max_leaves': 4}\n",
      "---------- ----------\n",
      "Grid search run 79/100:\n",
      "Training with parameters: {'n_jobs': 4, 'early_stopping_rounds': 100, 'random_state': 12345, 'max_bins': 512, 'max_interaction_bins': 32, 'interactions': 10, 'outer_bags': 12, 'inner_bags': 4, 'learning_rate': 0.01, 'validation_size': 0.2, 'min_samples_leaf': 20, 'max_leaves': 4}\n",
      "---------- ----------\n",
      "Grid search run 80/100:\n",
      "Training with parameters: {'n_jobs': 4, 'early_stopping_rounds': 100, 'random_state': 12345, 'max_bins': 256, 'max_interaction_bins': 16, 'interactions': 10, 'outer_bags': 12, 'inner_bags': 4, 'learning_rate': 0.1, 'validation_size': 0.1, 'min_samples_leaf': 10, 'max_leaves': 4}\n",
      "---------- ----------\n",
      "Grid search run 81/100:\n",
      "Training with parameters: {'n_jobs': 4, 'early_stopping_rounds': 100, 'random_state': 12345, 'max_bins': 128, 'max_interaction_bins': 16, 'interactions': 5, 'outer_bags': 12, 'inner_bags': 2, 'learning_rate': 0.01, 'validation_size': 0.1, 'min_samples_leaf': 15, 'max_leaves': 3}\n",
      "---------- ----------\n",
      "Grid search run 82/100:\n",
      "Training with parameters: {'n_jobs': 4, 'early_stopping_rounds': 100, 'random_state': 12345, 'max_bins': 256, 'max_interaction_bins': 32, 'interactions': 20, 'outer_bags': 12, 'inner_bags': 4, 'learning_rate': 0.01, 'validation_size': 0.3, 'min_samples_leaf': 20, 'max_leaves': 3}\n",
      "---------- ----------\n",
      "Grid search run 83/100:\n",
      "Training with parameters: {'n_jobs': 4, 'early_stopping_rounds': 100, 'random_state': 12345, 'max_bins': 256, 'max_interaction_bins': 16, 'interactions': 5, 'outer_bags': 8, 'inner_bags': 4, 'learning_rate': 0.01, 'validation_size': 0.3, 'min_samples_leaf': 15, 'max_leaves': 5}\n",
      "---------- ----------\n",
      "Grid search run 84/100:\n",
      "Training with parameters: {'n_jobs': 4, 'early_stopping_rounds': 100, 'random_state': 12345, 'max_bins': 128, 'max_interaction_bins': 64, 'interactions': 5, 'outer_bags': 8, 'inner_bags': 2, 'learning_rate': 0.01, 'validation_size': 0.2, 'min_samples_leaf': 5, 'max_leaves': 5}\n",
      "---------- ----------\n",
      "Grid search run 85/100:\n",
      "Training with parameters: {'n_jobs': 4, 'early_stopping_rounds': 100, 'random_state': 12345, 'max_bins': 256, 'max_interaction_bins': 16, 'interactions': 15, 'outer_bags': 4, 'inner_bags': 2, 'learning_rate': 0.1, 'validation_size': 0.3, 'min_samples_leaf': 20, 'max_leaves': 5}\n",
      "---------- ----------\n",
      "Grid search run 86/100:\n",
      "Training with parameters: {'n_jobs': 4, 'early_stopping_rounds': 100, 'random_state': 12345, 'max_bins': 128, 'max_interaction_bins': 32, 'interactions': 15, 'outer_bags': 8, 'inner_bags': 3, 'learning_rate': 0.01, 'validation_size': 0.3, 'min_samples_leaf': 5, 'max_leaves': 5}\n",
      "---------- ----------\n",
      "Grid search run 87/100:\n",
      "Training with parameters: {'n_jobs': 4, 'early_stopping_rounds': 100, 'random_state': 12345, 'max_bins': 512, 'max_interaction_bins': 16, 'interactions': 5, 'outer_bags': 4, 'inner_bags': 4, 'learning_rate': 0.05, 'validation_size': 0.2, 'min_samples_leaf': 10, 'max_leaves': 2}\n",
      "---------- ----------\n",
      "Grid search run 88/100:\n",
      "Training with parameters: {'n_jobs': 4, 'early_stopping_rounds': 100, 'random_state': 12345, 'max_bins': 512, 'max_interaction_bins': 16, 'interactions': 5, 'outer_bags': 12, 'inner_bags': 4, 'learning_rate': 0.05, 'validation_size': 0.1, 'min_samples_leaf': 15, 'max_leaves': 2}\n",
      "---------- ----------\n",
      "Grid search run 89/100:\n",
      "Training with parameters: {'n_jobs': 4, 'early_stopping_rounds': 100, 'random_state': 12345, 'max_bins': 512, 'max_interaction_bins': 32, 'interactions': 5, 'outer_bags': 12, 'inner_bags': 4, 'learning_rate': 0.05, 'validation_size': 0.2, 'min_samples_leaf': 15, 'max_leaves': 1}\n",
      "---------- ----------\n",
      "Grid search run 90/100:\n",
      "Training with parameters: {'n_jobs': 4, 'early_stopping_rounds': 100, 'random_state': 12345, 'max_bins': 128, 'max_interaction_bins': 32, 'interactions': 15, 'outer_bags': 12, 'inner_bags': 2, 'learning_rate': 0.01, 'validation_size': 0.2, 'min_samples_leaf': 10, 'max_leaves': 1}\n",
      "---------- ----------\n",
      "Grid search run 91/100:\n",
      "Training with parameters: {'n_jobs': 4, 'early_stopping_rounds': 100, 'random_state': 12345, 'max_bins': 128, 'max_interaction_bins': 64, 'interactions': 20, 'outer_bags': 4, 'inner_bags': 3, 'learning_rate': 0.1, 'validation_size': 0.1, 'min_samples_leaf': 20, 'max_leaves': 3}\n",
      "---------- ----------\n",
      "Grid search run 92/100:\n",
      "Training with parameters: {'n_jobs': 4, 'early_stopping_rounds': 100, 'random_state': 12345, 'max_bins': 512, 'max_interaction_bins': 32, 'interactions': 15, 'outer_bags': 4, 'inner_bags': 3, 'learning_rate': 0.01, 'validation_size': 0.1, 'min_samples_leaf': 20, 'max_leaves': 3}\n",
      "---------- ----------\n",
      "Grid search run 93/100:\n",
      "Training with parameters: {'n_jobs': 4, 'early_stopping_rounds': 100, 'random_state': 12345, 'max_bins': 128, 'max_interaction_bins': 32, 'interactions': 10, 'outer_bags': 8, 'inner_bags': 1, 'learning_rate': 0.01, 'validation_size': 0.1, 'min_samples_leaf': 10, 'max_leaves': 1}\n",
      "---------- ----------\n",
      "Grid search run 94/100:\n",
      "Training with parameters: {'n_jobs': 4, 'early_stopping_rounds': 100, 'random_state': 12345, 'max_bins': 256, 'max_interaction_bins': 16, 'interactions': 15, 'outer_bags': 8, 'inner_bags': 2, 'learning_rate': 0.05, 'validation_size': 0.1, 'min_samples_leaf': 20, 'max_leaves': 3}\n",
      "---------- ----------\n",
      "Grid search run 95/100:\n",
      "Training with parameters: {'n_jobs': 4, 'early_stopping_rounds': 100, 'random_state': 12345, 'max_bins': 512, 'max_interaction_bins': 16, 'interactions': 10, 'outer_bags': 8, 'inner_bags': 3, 'learning_rate': 0.01, 'validation_size': 0.3, 'min_samples_leaf': 5, 'max_leaves': 4}\n",
      "---------- ----------\n",
      "Grid search run 96/100:\n",
      "Training with parameters: {'n_jobs': 4, 'early_stopping_rounds': 100, 'random_state': 12345, 'max_bins': 512, 'max_interaction_bins': 32, 'interactions': 20, 'outer_bags': 4, 'inner_bags': 1, 'learning_rate': 0.05, 'validation_size': 0.1, 'min_samples_leaf': 15, 'max_leaves': 3}\n",
      "---------- ----------\n",
      "Grid search run 97/100:\n",
      "Training with parameters: {'n_jobs': 4, 'early_stopping_rounds': 100, 'random_state': 12345, 'max_bins': 128, 'max_interaction_bins': 32, 'interactions': 15, 'outer_bags': 12, 'inner_bags': 1, 'learning_rate': 0.05, 'validation_size': 0.3, 'min_samples_leaf': 15, 'max_leaves': 3}\n",
      "---------- ----------\n",
      "Grid search run 98/100:\n",
      "Training with parameters: {'n_jobs': 4, 'early_stopping_rounds': 100, 'random_state': 12345, 'max_bins': 256, 'max_interaction_bins': 32, 'interactions': 20, 'outer_bags': 8, 'inner_bags': 4, 'learning_rate': 0.05, 'validation_size': 0.3, 'min_samples_leaf': 5, 'max_leaves': 4}\n",
      "---------- ----------\n",
      "Grid search run 99/100:\n"
     ]
    },
    {
     "name": "stdout",
     "output_type": "stream",
     "text": [
      "Training with parameters: {'n_jobs': 4, 'early_stopping_rounds': 100, 'random_state': 12345, 'max_bins': 512, 'max_interaction_bins': 64, 'interactions': 20, 'outer_bags': 12, 'inner_bags': 1, 'learning_rate': 0.05, 'validation_size': 0.1, 'min_samples_leaf': 10, 'max_leaves': 3}\n",
      "Grid search new best score discovered at iteration 99/100: 0.8249.\n",
      "---------- ----------\n",
      "Grid search run 100/100:\n",
      "Training with parameters: {'n_jobs': 4, 'early_stopping_rounds': 100, 'random_state': 12345, 'max_bins': 128, 'max_interaction_bins': 32, 'interactions': 20, 'outer_bags': 12, 'inner_bags': 3, 'learning_rate': 0.01, 'validation_size': 0.2, 'min_samples_leaf': 20, 'max_leaves': 3}\n",
      "---------- ----------\n",
      "EBM training completed in 3192.99 s.\n"
     ]
    }
   ],
   "source": [
    "# dictionary of hyperparameter value lists for grid search\n",
    "gs_params1 = {'max_bins': [128, 256, 512],\n",
    "             'max_interaction_bins': [16, 32, 64],\n",
    "             'interactions': [5, 10, 15, 20],\n",
    "             'outer_bags': [4, 8, 12], \n",
    "             'inner_bags': [1,2,3, 4],\n",
    "             'learning_rate': [0.01, 0.05, 0.1],\n",
    "             'validation_size': [0.1, 0.2, 0.3],\n",
    "             'min_samples_leaf': [5,10,15,20],\n",
    "             'max_leaves': [1,2, 3,4, 5]}\n",
    "\n",
    "# start local timer\n",
    "ebm_tic1 = time.time()\n",
    "\n",
    "# EBM grid search\n",
    "best_ebm1 = ebm_grid(train, valid, x_names, y_name, gs_params=gs_params1, n_models=100, \n",
    "                    early_stopping_rounds=100, seed=SEED)\n",
    "\n",
    "# end local timer\n",
    "ebm_toc = time.time() - ebm_tic1\n",
    "print('EBM training completed in %.2f s.' % (ebm_toc))"
   ]
  },
  {
   "cell_type": "code",
   "execution_count": 34,
   "id": "a9d17489",
   "metadata": {},
   "outputs": [
    {
     "data": {
      "text/html": [
       "<!-- http://127.0.0.1:7001/140403218879824/ -->\n",
       "<iframe src=\"http://127.0.0.1:7001/140403218879824/\" width=100% height=800 frameBorder=\"0\"></iframe>"
      ]
     },
     "metadata": {},
     "output_type": "display_data"
    }
   ],
   "source": [
    "from interpret import show\n",
    "ebm_global1 = best_ebm1.explain_global()\n",
    "show(ebm_global1)"
   ]
  },
  {
   "cell_type": "markdown",
   "id": "51f1cac5",
   "metadata": {},
   "source": [
    "#### Basic AUC assessment"
   ]
  },
  {
   "cell_type": "code",
   "execution_count": 35,
   "id": "677fc1fe",
   "metadata": {},
   "outputs": [
    {
     "name": "stdout",
     "output_type": "stream",
     "text": [
      "Validation AUC: 0.8249.\n"
     ]
    }
   ],
   "source": [
    "best_ebm_perf1 = ROC(best_ebm1.predict_proba).explain_perf(valid[x_names], valid[y_name])\n",
    "print('Validation AUC: %.4f.' % best_ebm_perf1._internal_obj['overall']['auc'])"
   ]
  },
  {
   "cell_type": "markdown",
   "id": "7e16aacc",
   "metadata": {},
   "source": [
    "#### Write submission file"
   ]
  },
  {
   "cell_type": "code",
   "execution_count": 37,
   "id": "d947e20a",
   "metadata": {},
   "outputs": [],
   "source": [
    "best_ebm_submit1 = pd.DataFrame(best_ebm1.predict_proba(test[x_names])[:, 1], columns=['phat'])\n",
    "best_ebm_submit1.to_csv('group3_best_ebm_1_' + str(datetime.datetime.now().strftime(\"%Y_%m_%d_%H_%M_%S\") + '.csv'), \n",
    "                        index=False)"
   ]
  },
  {
   "cell_type": "markdown",
   "id": "9b174663",
   "metadata": {},
   "source": [
    "#### End timer"
   ]
  },
  {
   "cell_type": "code",
   "execution_count": 25,
   "id": "5f96f003",
   "metadata": {},
   "outputs": [
    {
     "name": "stdout",
     "output_type": "stream",
     "text": [
      "All tasks completed in 1304.05 s.\n"
     ]
    }
   ],
   "source": [
    "toc = time.time() - tic\n",
    "print('All tasks completed in %.2f s.' % (toc))"
   ]
  },
  {
   "cell_type": "markdown",
   "id": "2d6a835a",
   "metadata": {},
   "source": [
    "#### Shutdown h2o"
   ]
  },
  {
   "cell_type": "code",
   "execution_count": 21,
   "id": "c6d770d2",
   "metadata": {},
   "outputs": [
    {
     "name": "stdout",
     "output_type": "stream",
     "text": [
      "H2O session _sid_a821 closed.\n"
     ]
    }
   ],
   "source": [
    "h2o.cluster().shutdown(prompt=False)"
   ]
  }
 ],
 "metadata": {
  "kernelspec": {
   "display_name": "Python 3",
   "language": "python",
   "name": "python3"
  },
  "language_info": {
   "codemirror_mode": {
    "name": "ipython",
    "version": 3
   },
   "file_extension": ".py",
   "mimetype": "text/x-python",
   "name": "python",
   "nbconvert_exporter": "python",
   "pygments_lexer": "ipython3",
   "version": "3.8.8"
  }
 },
 "nbformat": 4,
 "nbformat_minor": 5
}
